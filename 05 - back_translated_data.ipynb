{
 "metadata": {
  "language_info": {
   "codemirror_mode": {
    "name": "ipython",
    "version": 3
   },
   "file_extension": ".py",
   "mimetype": "text/x-python",
   "name": "python",
   "nbconvert_exporter": "python",
   "pygments_lexer": "ipython3",
   "version": "3.8.5"
  },
  "orig_nbformat": 4,
  "kernelspec": {
   "name": "python3",
   "display_name": "Python 3.8.5 64-bit"
  },
  "interpreter": {
   "hash": "e6326ae2dc7cd7629e7601181b1c625552adf2d5e9e5e96f66d5d4efbd1b9385"
  }
 },
 "nbformat": 4,
 "nbformat_minor": 2,
 "cells": [
  {
   "source": [
    "# Text Mining with NLTK Library\n",
    "--------"
   ],
   "cell_type": "markdown",
   "metadata": {}
  },
  {
   "cell_type": "code",
   "execution_count": 359,
   "metadata": {},
   "outputs": [],
   "source": [
    "import numpy as np \n",
    "import pandas as pd \n",
    "import matplotlib.pyplot as plt \n",
    "import seaborn as sns \n",
    "import re\n",
    "from nltk.stem import PorterStemmer\n",
    "from nltk.corpus import stopwords"
   ]
  },
  {
   "cell_type": "code",
   "execution_count": 360,
   "metadata": {},
   "outputs": [],
   "source": [
    "data_ = pd.read_csv(\"C:\\ARTIFICIAL INTELLIGENCE/03 - Machine Learning/01 - Resource/back_translated_data.csv\")"
   ]
  },
  {
   "cell_type": "code",
   "execution_count": 361,
   "metadata": {},
   "outputs": [
    {
     "output_type": "execute_result",
     "data": {
      "text/plain": [
       "               id                                            premise  \\\n",
       "0      cc6c64c687  أعلنت منظمة الصحة العالمية أن استراتيجية جديدة...   \n",
       "1      526fdc06e0  ملحوظة: هديتك أمر بالغ الأهمية لاحتفالنا بالذك...   \n",
       "2      e4bbe7bb97  Она даже не знает свадьбы, она даже не знает, ...   \n",
       "3      ec3331392d  जनसंख्या वृद्धि विपरीत दिशा में प्रदूषण की तरह...   \n",
       "4      e65978db8f  لیکن اس کے علاوہ ، مجھے امید ہے کہ یہ زیادہ گر...   \n",
       "...           ...                                                ...   \n",
       "11941  32cacb4eaf  Hatimaye waliongeza ukanda, nyumba ya sanaa na...   \n",
       "11942  36c00ef778  Сивите очи на младия господар се втренчиха в н...   \n",
       "11943  beda0e4a56  De 6 a 6 años: tour gratuito y tarifa militar ...   \n",
       "11944  5f33019f95  Toplam sistemin enerjisi, dipol ters oryantasy...   \n",
       "11945  752924043c  Изменения включают нехватку персонала, изменен...   \n",
       "\n",
       "                                              hypothesis lang_abv   language  \\\n",
       "0      طورت منظمة الصحة العالمية استراتيجية لعلاج الس...       ar     Arabic   \n",
       "1      نحتفل اليوم بالافتتاح الكبير لأحدث مسرح شرطة ف...       ar     Arabic   \n",
       "2                      Она знала, что собиралась делать.       ru    Russian   \n",
       "3                  जनसंख्या वृद्धि प्रदूषण के विपरीत है।       hi      Hindi   \n",
       "4      مجھے امید ہے کہ کرسمس پر برف کے علاوہ موسم مزی...       ur       Urdu   \n",
       "...                                                  ...      ...        ...   \n",
       "11941                             Aliongeza vitu vitatu.       sw    Swahili   \n",
       "11942                               Младежът я погледна.       bg  Bulgarian   \n",
       "11943  Desafortunadamente, en este momento no hay nin...       es    Spanish   \n",
       "11944  İki kutupluların yönlerini değiştirmeleri mümk...       tr    Turkish   \n",
       "11945         Они складывают половину своих сотрудников.       ru    Russian   \n",
       "\n",
       "       label  \n",
       "0          1  \n",
       "1          2  \n",
       "2          2  \n",
       "3          0  \n",
       "4          0  \n",
       "...      ...  \n",
       "11941      0  \n",
       "11942      0  \n",
       "11943      2  \n",
       "11944      0  \n",
       "11945      1  \n",
       "\n",
       "[11946 rows x 6 columns]"
      ],
      "text/html": "<div>\n<style scoped>\n    .dataframe tbody tr th:only-of-type {\n        vertical-align: middle;\n    }\n\n    .dataframe tbody tr th {\n        vertical-align: top;\n    }\n\n    .dataframe thead th {\n        text-align: right;\n    }\n</style>\n<table border=\"1\" class=\"dataframe\">\n  <thead>\n    <tr style=\"text-align: right;\">\n      <th></th>\n      <th>id</th>\n      <th>premise</th>\n      <th>hypothesis</th>\n      <th>lang_abv</th>\n      <th>language</th>\n      <th>label</th>\n    </tr>\n  </thead>\n  <tbody>\n    <tr>\n      <th>0</th>\n      <td>cc6c64c687</td>\n      <td>أعلنت منظمة الصحة العالمية أن استراتيجية جديدة...</td>\n      <td>طورت منظمة الصحة العالمية استراتيجية لعلاج الس...</td>\n      <td>ar</td>\n      <td>Arabic</td>\n      <td>1</td>\n    </tr>\n    <tr>\n      <th>1</th>\n      <td>526fdc06e0</td>\n      <td>ملحوظة: هديتك أمر بالغ الأهمية لاحتفالنا بالذك...</td>\n      <td>نحتفل اليوم بالافتتاح الكبير لأحدث مسرح شرطة ف...</td>\n      <td>ar</td>\n      <td>Arabic</td>\n      <td>2</td>\n    </tr>\n    <tr>\n      <th>2</th>\n      <td>e4bbe7bb97</td>\n      <td>Она даже не знает свадьбы, она даже не знает, ...</td>\n      <td>Она знала, что собиралась делать.</td>\n      <td>ru</td>\n      <td>Russian</td>\n      <td>2</td>\n    </tr>\n    <tr>\n      <th>3</th>\n      <td>ec3331392d</td>\n      <td>जनसंख्या वृद्धि विपरीत दिशा में प्रदूषण की तरह...</td>\n      <td>जनसंख्या वृद्धि प्रदूषण के विपरीत है।</td>\n      <td>hi</td>\n      <td>Hindi</td>\n      <td>0</td>\n    </tr>\n    <tr>\n      <th>4</th>\n      <td>e65978db8f</td>\n      <td>لیکن اس کے علاوہ ، مجھے امید ہے کہ یہ زیادہ گر...</td>\n      <td>مجھے امید ہے کہ کرسمس پر برف کے علاوہ موسم مزی...</td>\n      <td>ur</td>\n      <td>Urdu</td>\n      <td>0</td>\n    </tr>\n    <tr>\n      <th>...</th>\n      <td>...</td>\n      <td>...</td>\n      <td>...</td>\n      <td>...</td>\n      <td>...</td>\n      <td>...</td>\n    </tr>\n    <tr>\n      <th>11941</th>\n      <td>32cacb4eaf</td>\n      <td>Hatimaye waliongeza ukanda, nyumba ya sanaa na...</td>\n      <td>Aliongeza vitu vitatu.</td>\n      <td>sw</td>\n      <td>Swahili</td>\n      <td>0</td>\n    </tr>\n    <tr>\n      <th>11942</th>\n      <td>36c00ef778</td>\n      <td>Сивите очи на младия господар се втренчиха в н...</td>\n      <td>Младежът я погледна.</td>\n      <td>bg</td>\n      <td>Bulgarian</td>\n      <td>0</td>\n    </tr>\n    <tr>\n      <th>11943</th>\n      <td>beda0e4a56</td>\n      <td>De 6 a 6 años: tour gratuito y tarifa militar ...</td>\n      <td>Desafortunadamente, en este momento no hay nin...</td>\n      <td>es</td>\n      <td>Spanish</td>\n      <td>2</td>\n    </tr>\n    <tr>\n      <th>11944</th>\n      <td>5f33019f95</td>\n      <td>Toplam sistemin enerjisi, dipol ters oryantasy...</td>\n      <td>İki kutupluların yönlerini değiştirmeleri mümk...</td>\n      <td>tr</td>\n      <td>Turkish</td>\n      <td>0</td>\n    </tr>\n    <tr>\n      <th>11945</th>\n      <td>752924043c</td>\n      <td>Изменения включают нехватку персонала, изменен...</td>\n      <td>Они складывают половину своих сотрудников.</td>\n      <td>ru</td>\n      <td>Russian</td>\n      <td>1</td>\n    </tr>\n  </tbody>\n</table>\n<p>11946 rows × 6 columns</p>\n</div>"
     },
     "metadata": {},
     "execution_count": 361
    }
   ],
   "source": [
    "data_"
   ]
  },
  {
   "cell_type": "code",
   "execution_count": 362,
   "metadata": {},
   "outputs": [
    {
     "output_type": "execute_result",
     "data": {
      "text/plain": [
       "<AxesSubplot:xlabel='lang_abv', ylabel='count'>"
      ]
     },
     "metadata": {},
     "execution_count": 362
    },
    {
     "output_type": "display_data",
     "data": {
      "text/plain": "<Figure size 1440x504 with 1 Axes>",
      "image/svg+xml": "<?xml version=\"1.0\" encoding=\"utf-8\" standalone=\"no\"?>\r\n<!DOCTYPE svg PUBLIC \"-//W3C//DTD SVG 1.1//EN\"\r\n  \"http://www.w3.org/Graphics/SVG/1.1/DTD/svg11.dtd\">\r\n<!-- Created with matplotlib (https://matplotlib.org/) -->\r\n<svg height=\"425.554375pt\" version=\"1.1\" viewBox=\"0 0 1176.528125 425.554375\" width=\"1176.528125pt\" xmlns=\"http://www.w3.org/2000/svg\" xmlns:xlink=\"http://www.w3.org/1999/xlink\">\r\n <metadata>\r\n  <rdf:RDF xmlns:cc=\"http://creativecommons.org/ns#\" xmlns:dc=\"http://purl.org/dc/elements/1.1/\" xmlns:rdf=\"http://www.w3.org/1999/02/22-rdf-syntax-ns#\">\r\n   <cc:Work>\r\n    <dc:type rdf:resource=\"http://purl.org/dc/dcmitype/StillImage\"/>\r\n    <dc:date>2021-07-04T14:40:56.838182</dc:date>\r\n    <dc:format>image/svg+xml</dc:format>\r\n    <dc:creator>\r\n     <cc:Agent>\r\n      <dc:title>Matplotlib v3.3.2, https://matplotlib.org/</dc:title>\r\n     </cc:Agent>\r\n    </dc:creator>\r\n   </cc:Work>\r\n  </rdf:RDF>\r\n </metadata>\r\n <defs>\r\n  <style type=\"text/css\">*{stroke-linecap:butt;stroke-linejoin:round;}</style>\r\n </defs>\r\n <g id=\"figure_1\">\r\n  <g id=\"patch_1\">\r\n   <path d=\"M 0 425.554375 \r\nL 1176.528125 425.554375 \r\nL 1176.528125 0 \r\nL 0 0 \r\nz\r\n\" style=\"fill:none;\"/>\r\n  </g>\r\n  <g id=\"axes_1\">\r\n   <g id=\"patch_2\">\r\n    <path d=\"M 53.328125 387.72 \r\nL 1169.328125 387.72 \r\nL 1169.328125 7.2 \r\nL 53.328125 7.2 \r\nz\r\n\" style=\"fill:#ffffff;\"/>\r\n   </g>\r\n   <g id=\"patch_3\">\r\n    <path clip-path=\"url(#pd95362f36d)\" d=\"M 61.299554 387.72 \r\nL 125.070982 387.72 \r\nL 125.070982 34.114338 \r\nL 61.299554 34.114338 \r\nz\r\n\" style=\"fill:#ea96a3;\"/>\r\n   </g>\r\n   <g id=\"patch_4\">\r\n    <path clip-path=\"url(#pd95362f36d)\" d=\"M 141.013839 387.72 \r\nL 204.785268 387.72 \r\nL 204.785268 76.620303 \r\nL 141.013839 76.620303 \r\nz\r\n\" style=\"fill:#e4946a;\"/>\r\n   </g>\r\n   <g id=\"patch_5\">\r\n    <path clip-path=\"url(#pd95362f36d)\" d=\"M 220.728125 387.72 \r\nL 284.499554 387.72 \r\nL 284.499554 180.686633 \r\nL 220.728125 180.686633 \r\nz\r\n\" style=\"fill:#c29a4b;\"/>\r\n   </g>\r\n   <g id=\"patch_6\">\r\n    <path clip-path=\"url(#pd95362f36d)\" d=\"M 300.442411 387.72 \r\nL 364.213839 387.72 \r\nL 364.213839 46.572983 \r\nL 300.442411 46.572983 \r\nz\r\n\" style=\"fill:#a69f46;\"/>\r\n   </g>\r\n   <g id=\"patch_7\">\r\n    <path clip-path=\"url(#pd95362f36d)\" d=\"M 380.156696 387.72 \r\nL 443.928125 387.72 \r\nL 443.928125 43.275106 \r\nL 380.156696 43.275106 \r\nz\r\n\" style=\"fill:#88a746;\"/>\r\n   </g>\r\n   <g id=\"patch_8\">\r\n    <path clip-path=\"url(#pd95362f36d)\" d=\"M 459.870982 387.72 \r\nL 523.642411 387.72 \r\nL 523.642411 62.695935 \r\nL 459.870982 62.695935 \r\nz\r\n\" style=\"fill:#48b05e;\"/>\r\n   </g>\r\n   <g id=\"patch_9\">\r\n    <path clip-path=\"url(#pd95362f36d)\" d=\"M 539.585268 387.72 \r\nL 603.356696 387.72 \r\nL 603.356696 74.78815 \r\nL 539.585268 74.78815 \r\nz\r\n\" style=\"fill:#4aad8f;\"/>\r\n   </g>\r\n   <g id=\"patch_10\">\r\n    <path clip-path=\"url(#pd95362f36d)\" d=\"M 619.299554 387.72 \r\nL 683.070982 387.72 \r\nL 683.070982 44.374398 \r\nL 619.299554 44.374398 \r\nz\r\n\" style=\"fill:#4baba4;\"/>\r\n   </g>\r\n   <g id=\"patch_11\">\r\n    <path clip-path=\"url(#pd95362f36d)\" d=\"M 699.013839 387.72 \r\nL 762.785268 387.72 \r\nL 762.785268 76.253873 \r\nL 699.013839 76.253873 \r\nz\r\n\" style=\"fill:#4eabb8;\"/>\r\n   </g>\r\n   <g id=\"patch_12\">\r\n    <path clip-path=\"url(#pd95362f36d)\" d=\"M 778.728125 387.72 \r\nL 842.499554 387.72 \r\nL 842.499554 72.223134 \r\nL 778.728125 72.223134 \r\nz\r\n\" style=\"fill:#55acd7;\"/>\r\n   </g>\r\n   <g id=\"patch_13\">\r\n    <path clip-path=\"url(#pd95362f36d)\" d=\"M 858.442411 387.72 \r\nL 922.213839 387.72 \r\nL 922.213839 25.32 \r\nL 858.442411 25.32 \r\nz\r\n\" style=\"fill:#a0adea;\"/>\r\n   </g>\r\n   <g id=\"patch_14\">\r\n    <path clip-path=\"url(#pd95362f36d)\" d=\"M 938.156696 387.72 \r\nL 1001.928125 387.72 \r\nL 1001.928125 64.161658 \r\nL 938.156696 64.161658 \r\nz\r\n\" style=\"fill:#c79fe9;\"/>\r\n   </g>\r\n   <g id=\"patch_15\">\r\n    <path clip-path=\"url(#pd95362f36d)\" d=\"M 1017.870982 387.72 \r\nL 1081.642411 387.72 \r\nL 1081.642411 88.712518 \r\nL 1017.870982 88.712518 \r\nz\r\n\" style=\"fill:#e78ae0;\"/>\r\n   </g>\r\n   <g id=\"patch_16\">\r\n    <path clip-path=\"url(#pd95362f36d)\" d=\"M 1097.585268 387.72 \r\nL 1161.356696 387.72 \r\nL 1161.356696 160.899373 \r\nL 1097.585268 160.899373 \r\nz\r\n\" style=\"fill:#e891c1;\"/>\r\n   </g>\r\n   <g id=\"matplotlib.axis_1\">\r\n    <g id=\"xtick_1\">\r\n     <g id=\"line2d_1\">\r\n      <defs>\r\n       <path d=\"M 0 0 \r\nL 0 3.5 \r\n\" id=\"ma5fcec55ca\" style=\"stroke:#000000;stroke-width:0.8;\"/>\r\n      </defs>\r\n      <g>\r\n       <use style=\"stroke:#000000;stroke-width:0.8;\" x=\"93.185268\" xlink:href=\"#ma5fcec55ca\" y=\"387.72\"/>\r\n      </g>\r\n     </g>\r\n     <g id=\"text_1\">\r\n      <!-- ar -->\r\n      <g transform=\"translate(88.065737 402.318437)scale(0.1 -0.1)\">\r\n       <defs>\r\n        <path d=\"M 34.28125 27.484375 \r\nQ 23.390625 27.484375 19.1875 25 \r\nQ 14.984375 22.515625 14.984375 16.5 \r\nQ 14.984375 11.71875 18.140625 8.90625 \r\nQ 21.296875 6.109375 26.703125 6.109375 \r\nQ 34.1875 6.109375 38.703125 11.40625 \r\nQ 43.21875 16.703125 43.21875 25.484375 \r\nL 43.21875 27.484375 \r\nz\r\nM 52.203125 31.203125 \r\nL 52.203125 0 \r\nL 43.21875 0 \r\nL 43.21875 8.296875 \r\nQ 40.140625 3.328125 35.546875 0.953125 \r\nQ 30.953125 -1.421875 24.3125 -1.421875 \r\nQ 15.921875 -1.421875 10.953125 3.296875 \r\nQ 6 8.015625 6 15.921875 \r\nQ 6 25.140625 12.171875 29.828125 \r\nQ 18.359375 34.515625 30.609375 34.515625 \r\nL 43.21875 34.515625 \r\nL 43.21875 35.40625 \r\nQ 43.21875 41.609375 39.140625 45 \r\nQ 35.0625 48.390625 27.6875 48.390625 \r\nQ 23 48.390625 18.546875 47.265625 \r\nQ 14.109375 46.140625 10.015625 43.890625 \r\nL 10.015625 52.203125 \r\nQ 14.9375 54.109375 19.578125 55.046875 \r\nQ 24.21875 56 28.609375 56 \r\nQ 40.484375 56 46.34375 49.84375 \r\nQ 52.203125 43.703125 52.203125 31.203125 \r\nz\r\n\" id=\"DejaVuSans-97\"/>\r\n        <path d=\"M 41.109375 46.296875 \r\nQ 39.59375 47.171875 37.8125 47.578125 \r\nQ 36.03125 48 33.890625 48 \r\nQ 26.265625 48 22.1875 43.046875 \r\nQ 18.109375 38.09375 18.109375 28.8125 \r\nL 18.109375 0 \r\nL 9.078125 0 \r\nL 9.078125 54.6875 \r\nL 18.109375 54.6875 \r\nL 18.109375 46.1875 \r\nQ 20.953125 51.171875 25.484375 53.578125 \r\nQ 30.03125 56 36.53125 56 \r\nQ 37.453125 56 38.578125 55.875 \r\nQ 39.703125 55.765625 41.0625 55.515625 \r\nz\r\n\" id=\"DejaVuSans-114\"/>\r\n       </defs>\r\n       <use xlink:href=\"#DejaVuSans-97\"/>\r\n       <use x=\"61.279297\" xlink:href=\"#DejaVuSans-114\"/>\r\n      </g>\r\n     </g>\r\n    </g>\r\n    <g id=\"xtick_2\">\r\n     <g id=\"line2d_2\">\r\n      <g>\r\n       <use style=\"stroke:#000000;stroke-width:0.8;\" x=\"172.899554\" xlink:href=\"#ma5fcec55ca\" y=\"387.72\"/>\r\n      </g>\r\n     </g>\r\n     <g id=\"text_2\">\r\n      <!-- ru -->\r\n      <g transform=\"translate(167.675335 402.318437)scale(0.1 -0.1)\">\r\n       <defs>\r\n        <path d=\"M 8.5 21.578125 \r\nL 8.5 54.6875 \r\nL 17.484375 54.6875 \r\nL 17.484375 21.921875 \r\nQ 17.484375 14.15625 20.5 10.265625 \r\nQ 23.53125 6.390625 29.59375 6.390625 \r\nQ 36.859375 6.390625 41.078125 11.03125 \r\nQ 45.3125 15.671875 45.3125 23.6875 \r\nL 45.3125 54.6875 \r\nL 54.296875 54.6875 \r\nL 54.296875 0 \r\nL 45.3125 0 \r\nL 45.3125 8.40625 \r\nQ 42.046875 3.421875 37.71875 1 \r\nQ 33.40625 -1.421875 27.6875 -1.421875 \r\nQ 18.265625 -1.421875 13.375 4.4375 \r\nQ 8.5 10.296875 8.5 21.578125 \r\nz\r\nM 31.109375 56 \r\nz\r\n\" id=\"DejaVuSans-117\"/>\r\n       </defs>\r\n       <use xlink:href=\"#DejaVuSans-114\"/>\r\n       <use x=\"41.113281\" xlink:href=\"#DejaVuSans-117\"/>\r\n      </g>\r\n     </g>\r\n    </g>\r\n    <g id=\"xtick_3\">\r\n     <g id=\"line2d_3\">\r\n      <g>\r\n       <use style=\"stroke:#000000;stroke-width:0.8;\" x=\"252.613839\" xlink:href=\"#ma5fcec55ca\" y=\"387.72\"/>\r\n      </g>\r\n     </g>\r\n     <g id=\"text_3\">\r\n      <!-- hi -->\r\n      <g transform=\"translate(248.056027 402.318437)scale(0.1 -0.1)\">\r\n       <defs>\r\n        <path d=\"M 54.890625 33.015625 \r\nL 54.890625 0 \r\nL 45.90625 0 \r\nL 45.90625 32.71875 \r\nQ 45.90625 40.484375 42.875 44.328125 \r\nQ 39.84375 48.1875 33.796875 48.1875 \r\nQ 26.515625 48.1875 22.3125 43.546875 \r\nQ 18.109375 38.921875 18.109375 30.90625 \r\nL 18.109375 0 \r\nL 9.078125 0 \r\nL 9.078125 75.984375 \r\nL 18.109375 75.984375 \r\nL 18.109375 46.1875 \r\nQ 21.34375 51.125 25.703125 53.5625 \r\nQ 30.078125 56 35.796875 56 \r\nQ 45.21875 56 50.046875 50.171875 \r\nQ 54.890625 44.34375 54.890625 33.015625 \r\nz\r\n\" id=\"DejaVuSans-104\"/>\r\n        <path d=\"M 9.421875 54.6875 \r\nL 18.40625 54.6875 \r\nL 18.40625 0 \r\nL 9.421875 0 \r\nz\r\nM 9.421875 75.984375 \r\nL 18.40625 75.984375 \r\nL 18.40625 64.59375 \r\nL 9.421875 64.59375 \r\nz\r\n\" id=\"DejaVuSans-105\"/>\r\n       </defs>\r\n       <use xlink:href=\"#DejaVuSans-104\"/>\r\n       <use x=\"63.378906\" xlink:href=\"#DejaVuSans-105\"/>\r\n      </g>\r\n     </g>\r\n    </g>\r\n    <g id=\"xtick_4\">\r\n     <g id=\"line2d_4\">\r\n      <g>\r\n       <use style=\"stroke:#000000;stroke-width:0.8;\" x=\"332.328125\" xlink:href=\"#ma5fcec55ca\" y=\"387.72\"/>\r\n      </g>\r\n     </g>\r\n     <g id=\"text_4\">\r\n      <!-- ur -->\r\n      <g transform=\"translate(327.103906 402.318437)scale(0.1 -0.1)\">\r\n       <use xlink:href=\"#DejaVuSans-117\"/>\r\n       <use x=\"63.378906\" xlink:href=\"#DejaVuSans-114\"/>\r\n      </g>\r\n     </g>\r\n    </g>\r\n    <g id=\"xtick_5\">\r\n     <g id=\"line2d_5\">\r\n      <g>\r\n       <use style=\"stroke:#000000;stroke-width:0.8;\" x=\"412.042411\" xlink:href=\"#ma5fcec55ca\" y=\"387.72\"/>\r\n      </g>\r\n     </g>\r\n     <g id=\"text_5\">\r\n      <!-- sw -->\r\n      <g transform=\"translate(405.348661 402.318437)scale(0.1 -0.1)\">\r\n       <defs>\r\n        <path d=\"M 44.28125 53.078125 \r\nL 44.28125 44.578125 \r\nQ 40.484375 46.53125 36.375 47.5 \r\nQ 32.28125 48.484375 27.875 48.484375 \r\nQ 21.1875 48.484375 17.84375 46.4375 \r\nQ 14.5 44.390625 14.5 40.28125 \r\nQ 14.5 37.15625 16.890625 35.375 \r\nQ 19.28125 33.59375 26.515625 31.984375 \r\nL 29.59375 31.296875 \r\nQ 39.15625 29.25 43.1875 25.515625 \r\nQ 47.21875 21.78125 47.21875 15.09375 \r\nQ 47.21875 7.46875 41.1875 3.015625 \r\nQ 35.15625 -1.421875 24.609375 -1.421875 \r\nQ 20.21875 -1.421875 15.453125 -0.5625 \r\nQ 10.6875 0.296875 5.421875 2 \r\nL 5.421875 11.28125 \r\nQ 10.40625 8.6875 15.234375 7.390625 \r\nQ 20.0625 6.109375 24.8125 6.109375 \r\nQ 31.15625 6.109375 34.5625 8.28125 \r\nQ 37.984375 10.453125 37.984375 14.40625 \r\nQ 37.984375 18.0625 35.515625 20.015625 \r\nQ 33.0625 21.96875 24.703125 23.78125 \r\nL 21.578125 24.515625 \r\nQ 13.234375 26.265625 9.515625 29.90625 \r\nQ 5.8125 33.546875 5.8125 39.890625 \r\nQ 5.8125 47.609375 11.28125 51.796875 \r\nQ 16.75 56 26.8125 56 \r\nQ 31.78125 56 36.171875 55.265625 \r\nQ 40.578125 54.546875 44.28125 53.078125 \r\nz\r\n\" id=\"DejaVuSans-115\"/>\r\n        <path d=\"M 4.203125 54.6875 \r\nL 13.1875 54.6875 \r\nL 24.421875 12.015625 \r\nL 35.59375 54.6875 \r\nL 46.1875 54.6875 \r\nL 57.421875 12.015625 \r\nL 68.609375 54.6875 \r\nL 77.59375 54.6875 \r\nL 63.28125 0 \r\nL 52.6875 0 \r\nL 40.921875 44.828125 \r\nL 29.109375 0 \r\nL 18.5 0 \r\nz\r\n\" id=\"DejaVuSans-119\"/>\r\n       </defs>\r\n       <use xlink:href=\"#DejaVuSans-115\"/>\r\n       <use x=\"52.099609\" xlink:href=\"#DejaVuSans-119\"/>\r\n      </g>\r\n     </g>\r\n    </g>\r\n    <g id=\"xtick_6\">\r\n     <g id=\"line2d_6\">\r\n      <g>\r\n       <use style=\"stroke:#000000;stroke-width:0.8;\" x=\"491.756696\" xlink:href=\"#ma5fcec55ca\" y=\"387.72\"/>\r\n      </g>\r\n     </g>\r\n     <g id=\"text_6\">\r\n      <!-- el -->\r\n      <g transform=\"translate(487.291071 402.318437)scale(0.1 -0.1)\">\r\n       <defs>\r\n        <path d=\"M 56.203125 29.59375 \r\nL 56.203125 25.203125 \r\nL 14.890625 25.203125 \r\nQ 15.484375 15.921875 20.484375 11.0625 \r\nQ 25.484375 6.203125 34.421875 6.203125 \r\nQ 39.59375 6.203125 44.453125 7.46875 \r\nQ 49.3125 8.734375 54.109375 11.28125 \r\nL 54.109375 2.78125 \r\nQ 49.265625 0.734375 44.1875 -0.34375 \r\nQ 39.109375 -1.421875 33.890625 -1.421875 \r\nQ 20.796875 -1.421875 13.15625 6.1875 \r\nQ 5.515625 13.8125 5.515625 26.8125 \r\nQ 5.515625 40.234375 12.765625 48.109375 \r\nQ 20.015625 56 32.328125 56 \r\nQ 43.359375 56 49.78125 48.890625 \r\nQ 56.203125 41.796875 56.203125 29.59375 \r\nz\r\nM 47.21875 32.234375 \r\nQ 47.125 39.59375 43.09375 43.984375 \r\nQ 39.0625 48.390625 32.421875 48.390625 \r\nQ 24.90625 48.390625 20.390625 44.140625 \r\nQ 15.875 39.890625 15.1875 32.171875 \r\nz\r\n\" id=\"DejaVuSans-101\"/>\r\n        <path d=\"M 9.421875 75.984375 \r\nL 18.40625 75.984375 \r\nL 18.40625 0 \r\nL 9.421875 0 \r\nz\r\n\" id=\"DejaVuSans-108\"/>\r\n       </defs>\r\n       <use xlink:href=\"#DejaVuSans-101\"/>\r\n       <use x=\"61.523438\" xlink:href=\"#DejaVuSans-108\"/>\r\n      </g>\r\n     </g>\r\n    </g>\r\n    <g id=\"xtick_7\">\r\n     <g id=\"line2d_7\">\r\n      <g>\r\n       <use style=\"stroke:#000000;stroke-width:0.8;\" x=\"571.470982\" xlink:href=\"#ma5fcec55ca\" y=\"387.72\"/>\r\n      </g>\r\n     </g>\r\n     <g id=\"text_7\">\r\n      <!-- de -->\r\n      <g transform=\"translate(565.220201 402.318437)scale(0.1 -0.1)\">\r\n       <defs>\r\n        <path d=\"M 45.40625 46.390625 \r\nL 45.40625 75.984375 \r\nL 54.390625 75.984375 \r\nL 54.390625 0 \r\nL 45.40625 0 \r\nL 45.40625 8.203125 \r\nQ 42.578125 3.328125 38.25 0.953125 \r\nQ 33.9375 -1.421875 27.875 -1.421875 \r\nQ 17.96875 -1.421875 11.734375 6.484375 \r\nQ 5.515625 14.40625 5.515625 27.296875 \r\nQ 5.515625 40.1875 11.734375 48.09375 \r\nQ 17.96875 56 27.875 56 \r\nQ 33.9375 56 38.25 53.625 \r\nQ 42.578125 51.265625 45.40625 46.390625 \r\nz\r\nM 14.796875 27.296875 \r\nQ 14.796875 17.390625 18.875 11.75 \r\nQ 22.953125 6.109375 30.078125 6.109375 \r\nQ 37.203125 6.109375 41.296875 11.75 \r\nQ 45.40625 17.390625 45.40625 27.296875 \r\nQ 45.40625 37.203125 41.296875 42.84375 \r\nQ 37.203125 48.484375 30.078125 48.484375 \r\nQ 22.953125 48.484375 18.875 42.84375 \r\nQ 14.796875 37.203125 14.796875 27.296875 \r\nz\r\n\" id=\"DejaVuSans-100\"/>\r\n       </defs>\r\n       <use xlink:href=\"#DejaVuSans-100\"/>\r\n       <use x=\"63.476562\" xlink:href=\"#DejaVuSans-101\"/>\r\n      </g>\r\n     </g>\r\n    </g>\r\n    <g id=\"xtick_8\">\r\n     <g id=\"line2d_8\">\r\n      <g>\r\n       <use style=\"stroke:#000000;stroke-width:0.8;\" x=\"651.185268\" xlink:href=\"#ma5fcec55ca\" y=\"387.72\"/>\r\n      </g>\r\n     </g>\r\n     <g id=\"text_8\">\r\n      <!-- vi -->\r\n      <g transform=\"translate(646.83683 402.318437)scale(0.1 -0.1)\">\r\n       <defs>\r\n        <path d=\"M 2.984375 54.6875 \r\nL 12.5 54.6875 \r\nL 29.59375 8.796875 \r\nL 46.6875 54.6875 \r\nL 56.203125 54.6875 \r\nL 35.6875 0 \r\nL 23.484375 0 \r\nz\r\n\" id=\"DejaVuSans-118\"/>\r\n       </defs>\r\n       <use xlink:href=\"#DejaVuSans-118\"/>\r\n       <use x=\"59.179688\" xlink:href=\"#DejaVuSans-105\"/>\r\n      </g>\r\n     </g>\r\n    </g>\r\n    <g id=\"xtick_9\">\r\n     <g id=\"line2d_9\">\r\n      <g>\r\n       <use style=\"stroke:#000000;stroke-width:0.8;\" x=\"730.899554\" xlink:href=\"#ma5fcec55ca\" y=\"387.72\"/>\r\n      </g>\r\n     </g>\r\n     <g id=\"text_9\">\r\n      <!-- es -->\r\n      <g transform=\"translate(725.218304 402.318437)scale(0.1 -0.1)\">\r\n       <use xlink:href=\"#DejaVuSans-101\"/>\r\n       <use x=\"61.523438\" xlink:href=\"#DejaVuSans-115\"/>\r\n      </g>\r\n     </g>\r\n    </g>\r\n    <g id=\"xtick_10\">\r\n     <g id=\"line2d_10\">\r\n      <g>\r\n       <use style=\"stroke:#000000;stroke-width:0.8;\" x=\"810.613839\" xlink:href=\"#ma5fcec55ca\" y=\"387.72\"/>\r\n      </g>\r\n     </g>\r\n     <g id=\"text_10\">\r\n      <!-- tr -->\r\n      <g transform=\"translate(806.598214 402.318437)scale(0.1 -0.1)\">\r\n       <defs>\r\n        <path d=\"M 18.3125 70.21875 \r\nL 18.3125 54.6875 \r\nL 36.8125 54.6875 \r\nL 36.8125 47.703125 \r\nL 18.3125 47.703125 \r\nL 18.3125 18.015625 \r\nQ 18.3125 11.328125 20.140625 9.421875 \r\nQ 21.96875 7.515625 27.59375 7.515625 \r\nL 36.8125 7.515625 \r\nL 36.8125 0 \r\nL 27.59375 0 \r\nQ 17.1875 0 13.234375 3.875 \r\nQ 9.28125 7.765625 9.28125 18.015625 \r\nL 9.28125 47.703125 \r\nL 2.6875 47.703125 \r\nL 2.6875 54.6875 \r\nL 9.28125 54.6875 \r\nL 9.28125 70.21875 \r\nz\r\n\" id=\"DejaVuSans-116\"/>\r\n       </defs>\r\n       <use xlink:href=\"#DejaVuSans-116\"/>\r\n       <use x=\"39.208984\" xlink:href=\"#DejaVuSans-114\"/>\r\n      </g>\r\n     </g>\r\n    </g>\r\n    <g id=\"xtick_11\">\r\n     <g id=\"line2d_11\">\r\n      <g>\r\n       <use style=\"stroke:#000000;stroke-width:0.8;\" x=\"890.328125\" xlink:href=\"#ma5fcec55ca\" y=\"387.72\"/>\r\n      </g>\r\n     </g>\r\n     <g id=\"text_11\">\r\n      <!-- fr -->\r\n      <g transform=\"translate(886.5125 402.318437)scale(0.1 -0.1)\">\r\n       <defs>\r\n        <path d=\"M 37.109375 75.984375 \r\nL 37.109375 68.5 \r\nL 28.515625 68.5 \r\nQ 23.6875 68.5 21.796875 66.546875 \r\nQ 19.921875 64.59375 19.921875 59.515625 \r\nL 19.921875 54.6875 \r\nL 34.71875 54.6875 \r\nL 34.71875 47.703125 \r\nL 19.921875 47.703125 \r\nL 19.921875 0 \r\nL 10.890625 0 \r\nL 10.890625 47.703125 \r\nL 2.296875 47.703125 \r\nL 2.296875 54.6875 \r\nL 10.890625 54.6875 \r\nL 10.890625 58.5 \r\nQ 10.890625 67.625 15.140625 71.796875 \r\nQ 19.390625 75.984375 28.609375 75.984375 \r\nz\r\n\" id=\"DejaVuSans-102\"/>\r\n       </defs>\r\n       <use xlink:href=\"#DejaVuSans-102\"/>\r\n       <use x=\"35.205078\" xlink:href=\"#DejaVuSans-114\"/>\r\n      </g>\r\n     </g>\r\n    </g>\r\n    <g id=\"xtick_12\">\r\n     <g id=\"line2d_12\">\r\n      <g>\r\n       <use style=\"stroke:#000000;stroke-width:0.8;\" x=\"970.042411\" xlink:href=\"#ma5fcec55ca\" y=\"387.72\"/>\r\n      </g>\r\n     </g>\r\n     <g id=\"text_12\">\r\n      <!-- th -->\r\n      <g transform=\"translate(964.913504 402.318437)scale(0.1 -0.1)\">\r\n       <use xlink:href=\"#DejaVuSans-116\"/>\r\n       <use x=\"39.208984\" xlink:href=\"#DejaVuSans-104\"/>\r\n      </g>\r\n     </g>\r\n    </g>\r\n    <g id=\"xtick_13\">\r\n     <g id=\"line2d_13\">\r\n      <g>\r\n       <use style=\"stroke:#000000;stroke-width:0.8;\" x=\"1049.756696\" xlink:href=\"#ma5fcec55ca\" y=\"387.72\"/>\r\n      </g>\r\n     </g>\r\n     <g id=\"text_13\">\r\n      <!-- bg -->\r\n      <g transform=\"translate(1043.408259 402.318437)scale(0.1 -0.1)\">\r\n       <defs>\r\n        <path d=\"M 48.6875 27.296875 \r\nQ 48.6875 37.203125 44.609375 42.84375 \r\nQ 40.53125 48.484375 33.40625 48.484375 \r\nQ 26.265625 48.484375 22.1875 42.84375 \r\nQ 18.109375 37.203125 18.109375 27.296875 \r\nQ 18.109375 17.390625 22.1875 11.75 \r\nQ 26.265625 6.109375 33.40625 6.109375 \r\nQ 40.53125 6.109375 44.609375 11.75 \r\nQ 48.6875 17.390625 48.6875 27.296875 \r\nz\r\nM 18.109375 46.390625 \r\nQ 20.953125 51.265625 25.265625 53.625 \r\nQ 29.59375 56 35.59375 56 \r\nQ 45.5625 56 51.78125 48.09375 \r\nQ 58.015625 40.1875 58.015625 27.296875 \r\nQ 58.015625 14.40625 51.78125 6.484375 \r\nQ 45.5625 -1.421875 35.59375 -1.421875 \r\nQ 29.59375 -1.421875 25.265625 0.953125 \r\nQ 20.953125 3.328125 18.109375 8.203125 \r\nL 18.109375 0 \r\nL 9.078125 0 \r\nL 9.078125 75.984375 \r\nL 18.109375 75.984375 \r\nz\r\n\" id=\"DejaVuSans-98\"/>\r\n        <path d=\"M 45.40625 27.984375 \r\nQ 45.40625 37.75 41.375 43.109375 \r\nQ 37.359375 48.484375 30.078125 48.484375 \r\nQ 22.859375 48.484375 18.828125 43.109375 \r\nQ 14.796875 37.75 14.796875 27.984375 \r\nQ 14.796875 18.265625 18.828125 12.890625 \r\nQ 22.859375 7.515625 30.078125 7.515625 \r\nQ 37.359375 7.515625 41.375 12.890625 \r\nQ 45.40625 18.265625 45.40625 27.984375 \r\nz\r\nM 54.390625 6.78125 \r\nQ 54.390625 -7.171875 48.1875 -13.984375 \r\nQ 42 -20.796875 29.203125 -20.796875 \r\nQ 24.46875 -20.796875 20.265625 -20.09375 \r\nQ 16.0625 -19.390625 12.109375 -17.921875 \r\nL 12.109375 -9.1875 \r\nQ 16.0625 -11.328125 19.921875 -12.34375 \r\nQ 23.78125 -13.375 27.78125 -13.375 \r\nQ 36.625 -13.375 41.015625 -8.765625 \r\nQ 45.40625 -4.15625 45.40625 5.171875 \r\nL 45.40625 9.625 \r\nQ 42.625 4.78125 38.28125 2.390625 \r\nQ 33.9375 0 27.875 0 \r\nQ 17.828125 0 11.671875 7.65625 \r\nQ 5.515625 15.328125 5.515625 27.984375 \r\nQ 5.515625 40.671875 11.671875 48.328125 \r\nQ 17.828125 56 27.875 56 \r\nQ 33.9375 56 38.28125 53.609375 \r\nQ 42.625 51.21875 45.40625 46.390625 \r\nL 45.40625 54.6875 \r\nL 54.390625 54.6875 \r\nz\r\n\" id=\"DejaVuSans-103\"/>\r\n       </defs>\r\n       <use xlink:href=\"#DejaVuSans-98\"/>\r\n       <use x=\"63.476562\" xlink:href=\"#DejaVuSans-103\"/>\r\n      </g>\r\n     </g>\r\n    </g>\r\n    <g id=\"xtick_14\">\r\n     <g id=\"line2d_14\">\r\n      <g>\r\n       <use style=\"stroke:#000000;stroke-width:0.8;\" x=\"1129.470982\" xlink:href=\"#ma5fcec55ca\" y=\"387.72\"/>\r\n      </g>\r\n     </g>\r\n     <g id=\"text_14\">\r\n      <!-- zh -->\r\n      <g transform=\"translate(1123.678013 402.318437)scale(0.1 -0.1)\">\r\n       <defs>\r\n        <path d=\"M 5.515625 54.6875 \r\nL 48.1875 54.6875 \r\nL 48.1875 46.484375 \r\nL 14.40625 7.171875 \r\nL 48.1875 7.171875 \r\nL 48.1875 0 \r\nL 4.296875 0 \r\nL 4.296875 8.203125 \r\nL 38.09375 47.515625 \r\nL 5.515625 47.515625 \r\nz\r\n\" id=\"DejaVuSans-122\"/>\r\n       </defs>\r\n       <use xlink:href=\"#DejaVuSans-122\"/>\r\n       <use x=\"52.490234\" xlink:href=\"#DejaVuSans-104\"/>\r\n      </g>\r\n     </g>\r\n    </g>\r\n    <g id=\"text_15\">\r\n     <!-- lang_abv -->\r\n     <g transform=\"translate(588.834375 415.996562)scale(0.1 -0.1)\">\r\n      <defs>\r\n       <path d=\"M 54.890625 33.015625 \r\nL 54.890625 0 \r\nL 45.90625 0 \r\nL 45.90625 32.71875 \r\nQ 45.90625 40.484375 42.875 44.328125 \r\nQ 39.84375 48.1875 33.796875 48.1875 \r\nQ 26.515625 48.1875 22.3125 43.546875 \r\nQ 18.109375 38.921875 18.109375 30.90625 \r\nL 18.109375 0 \r\nL 9.078125 0 \r\nL 9.078125 54.6875 \r\nL 18.109375 54.6875 \r\nL 18.109375 46.1875 \r\nQ 21.34375 51.125 25.703125 53.5625 \r\nQ 30.078125 56 35.796875 56 \r\nQ 45.21875 56 50.046875 50.171875 \r\nQ 54.890625 44.34375 54.890625 33.015625 \r\nz\r\n\" id=\"DejaVuSans-110\"/>\r\n       <path d=\"M 50.984375 -16.609375 \r\nL 50.984375 -23.578125 \r\nL -0.984375 -23.578125 \r\nL -0.984375 -16.609375 \r\nz\r\n\" id=\"DejaVuSans-95\"/>\r\n      </defs>\r\n      <use xlink:href=\"#DejaVuSans-108\"/>\r\n      <use x=\"27.783203\" xlink:href=\"#DejaVuSans-97\"/>\r\n      <use x=\"89.0625\" xlink:href=\"#DejaVuSans-110\"/>\r\n      <use x=\"152.441406\" xlink:href=\"#DejaVuSans-103\"/>\r\n      <use x=\"215.917969\" xlink:href=\"#DejaVuSans-95\"/>\r\n      <use x=\"265.917969\" xlink:href=\"#DejaVuSans-97\"/>\r\n      <use x=\"327.197266\" xlink:href=\"#DejaVuSans-98\"/>\r\n      <use x=\"390.673828\" xlink:href=\"#DejaVuSans-118\"/>\r\n     </g>\r\n    </g>\r\n   </g>\r\n   <g id=\"matplotlib.axis_2\">\r\n    <g id=\"ytick_1\">\r\n     <g id=\"line2d_15\">\r\n      <defs>\r\n       <path d=\"M 0 0 \r\nL -3.5 0 \r\n\" id=\"m8ecd065303\" style=\"stroke:#000000;stroke-width:0.8;\"/>\r\n      </defs>\r\n      <g>\r\n       <use style=\"stroke:#000000;stroke-width:0.8;\" x=\"53.328125\" xlink:href=\"#m8ecd065303\" y=\"387.72\"/>\r\n      </g>\r\n     </g>\r\n     <g id=\"text_16\">\r\n      <!-- 0 -->\r\n      <g transform=\"translate(39.965625 391.519219)scale(0.1 -0.1)\">\r\n       <defs>\r\n        <path d=\"M 31.78125 66.40625 \r\nQ 24.171875 66.40625 20.328125 58.90625 \r\nQ 16.5 51.421875 16.5 36.375 \r\nQ 16.5 21.390625 20.328125 13.890625 \r\nQ 24.171875 6.390625 31.78125 6.390625 \r\nQ 39.453125 6.390625 43.28125 13.890625 \r\nQ 47.125 21.390625 47.125 36.375 \r\nQ 47.125 51.421875 43.28125 58.90625 \r\nQ 39.453125 66.40625 31.78125 66.40625 \r\nz\r\nM 31.78125 74.21875 \r\nQ 44.046875 74.21875 50.515625 64.515625 \r\nQ 56.984375 54.828125 56.984375 36.375 \r\nQ 56.984375 17.96875 50.515625 8.265625 \r\nQ 44.046875 -1.421875 31.78125 -1.421875 \r\nQ 19.53125 -1.421875 13.0625 8.265625 \r\nQ 6.59375 17.96875 6.59375 36.375 \r\nQ 6.59375 54.828125 13.0625 64.515625 \r\nQ 19.53125 74.21875 31.78125 74.21875 \r\nz\r\n\" id=\"DejaVuSans-48\"/>\r\n       </defs>\r\n       <use xlink:href=\"#DejaVuSans-48\"/>\r\n      </g>\r\n     </g>\r\n    </g>\r\n    <g id=\"ytick_2\">\r\n     <g id=\"line2d_16\">\r\n      <g>\r\n       <use style=\"stroke:#000000;stroke-width:0.8;\" x=\"53.328125\" xlink:href=\"#m8ecd065303\" y=\"314.433852\"/>\r\n      </g>\r\n     </g>\r\n     <g id=\"text_17\">\r\n      <!-- 200 -->\r\n      <g transform=\"translate(27.240625 318.233071)scale(0.1 -0.1)\">\r\n       <defs>\r\n        <path d=\"M 19.1875 8.296875 \r\nL 53.609375 8.296875 \r\nL 53.609375 0 \r\nL 7.328125 0 \r\nL 7.328125 8.296875 \r\nQ 12.9375 14.109375 22.625 23.890625 \r\nQ 32.328125 33.6875 34.8125 36.53125 \r\nQ 39.546875 41.84375 41.421875 45.53125 \r\nQ 43.3125 49.21875 43.3125 52.78125 \r\nQ 43.3125 58.59375 39.234375 62.25 \r\nQ 35.15625 65.921875 28.609375 65.921875 \r\nQ 23.96875 65.921875 18.8125 64.3125 \r\nQ 13.671875 62.703125 7.8125 59.421875 \r\nL 7.8125 69.390625 \r\nQ 13.765625 71.78125 18.9375 73 \r\nQ 24.125 74.21875 28.421875 74.21875 \r\nQ 39.75 74.21875 46.484375 68.546875 \r\nQ 53.21875 62.890625 53.21875 53.421875 \r\nQ 53.21875 48.921875 51.53125 44.890625 \r\nQ 49.859375 40.875 45.40625 35.40625 \r\nQ 44.1875 33.984375 37.640625 27.21875 \r\nQ 31.109375 20.453125 19.1875 8.296875 \r\nz\r\n\" id=\"DejaVuSans-50\"/>\r\n       </defs>\r\n       <use xlink:href=\"#DejaVuSans-50\"/>\r\n       <use x=\"63.623047\" xlink:href=\"#DejaVuSans-48\"/>\r\n       <use x=\"127.246094\" xlink:href=\"#DejaVuSans-48\"/>\r\n      </g>\r\n     </g>\r\n    </g>\r\n    <g id=\"ytick_3\">\r\n     <g id=\"line2d_17\">\r\n      <g>\r\n       <use style=\"stroke:#000000;stroke-width:0.8;\" x=\"53.328125\" xlink:href=\"#m8ecd065303\" y=\"241.147705\"/>\r\n      </g>\r\n     </g>\r\n     <g id=\"text_18\">\r\n      <!-- 400 -->\r\n      <g transform=\"translate(27.240625 244.946924)scale(0.1 -0.1)\">\r\n       <defs>\r\n        <path d=\"M 37.796875 64.3125 \r\nL 12.890625 25.390625 \r\nL 37.796875 25.390625 \r\nz\r\nM 35.203125 72.90625 \r\nL 47.609375 72.90625 \r\nL 47.609375 25.390625 \r\nL 58.015625 25.390625 \r\nL 58.015625 17.1875 \r\nL 47.609375 17.1875 \r\nL 47.609375 0 \r\nL 37.796875 0 \r\nL 37.796875 17.1875 \r\nL 4.890625 17.1875 \r\nL 4.890625 26.703125 \r\nz\r\n\" id=\"DejaVuSans-52\"/>\r\n       </defs>\r\n       <use xlink:href=\"#DejaVuSans-52\"/>\r\n       <use x=\"63.623047\" xlink:href=\"#DejaVuSans-48\"/>\r\n       <use x=\"127.246094\" xlink:href=\"#DejaVuSans-48\"/>\r\n      </g>\r\n     </g>\r\n    </g>\r\n    <g id=\"ytick_4\">\r\n     <g id=\"line2d_18\">\r\n      <g>\r\n       <use style=\"stroke:#000000;stroke-width:0.8;\" x=\"53.328125\" xlink:href=\"#m8ecd065303\" y=\"167.861557\"/>\r\n      </g>\r\n     </g>\r\n     <g id=\"text_19\">\r\n      <!-- 600 -->\r\n      <g transform=\"translate(27.240625 171.660776)scale(0.1 -0.1)\">\r\n       <defs>\r\n        <path d=\"M 33.015625 40.375 \r\nQ 26.375 40.375 22.484375 35.828125 \r\nQ 18.609375 31.296875 18.609375 23.390625 \r\nQ 18.609375 15.53125 22.484375 10.953125 \r\nQ 26.375 6.390625 33.015625 6.390625 \r\nQ 39.65625 6.390625 43.53125 10.953125 \r\nQ 47.40625 15.53125 47.40625 23.390625 \r\nQ 47.40625 31.296875 43.53125 35.828125 \r\nQ 39.65625 40.375 33.015625 40.375 \r\nz\r\nM 52.59375 71.296875 \r\nL 52.59375 62.3125 \r\nQ 48.875 64.0625 45.09375 64.984375 \r\nQ 41.3125 65.921875 37.59375 65.921875 \r\nQ 27.828125 65.921875 22.671875 59.328125 \r\nQ 17.53125 52.734375 16.796875 39.40625 \r\nQ 19.671875 43.65625 24.015625 45.921875 \r\nQ 28.375 48.1875 33.59375 48.1875 \r\nQ 44.578125 48.1875 50.953125 41.515625 \r\nQ 57.328125 34.859375 57.328125 23.390625 \r\nQ 57.328125 12.15625 50.6875 5.359375 \r\nQ 44.046875 -1.421875 33.015625 -1.421875 \r\nQ 20.359375 -1.421875 13.671875 8.265625 \r\nQ 6.984375 17.96875 6.984375 36.375 \r\nQ 6.984375 53.65625 15.1875 63.9375 \r\nQ 23.390625 74.21875 37.203125 74.21875 \r\nQ 40.921875 74.21875 44.703125 73.484375 \r\nQ 48.484375 72.75 52.59375 71.296875 \r\nz\r\n\" id=\"DejaVuSans-54\"/>\r\n       </defs>\r\n       <use xlink:href=\"#DejaVuSans-54\"/>\r\n       <use x=\"63.623047\" xlink:href=\"#DejaVuSans-48\"/>\r\n       <use x=\"127.246094\" xlink:href=\"#DejaVuSans-48\"/>\r\n      </g>\r\n     </g>\r\n    </g>\r\n    <g id=\"ytick_5\">\r\n     <g id=\"line2d_19\">\r\n      <g>\r\n       <use style=\"stroke:#000000;stroke-width:0.8;\" x=\"53.328125\" xlink:href=\"#m8ecd065303\" y=\"94.57541\"/>\r\n      </g>\r\n     </g>\r\n     <g id=\"text_20\">\r\n      <!-- 800 -->\r\n      <g transform=\"translate(27.240625 98.374628)scale(0.1 -0.1)\">\r\n       <defs>\r\n        <path d=\"M 31.78125 34.625 \r\nQ 24.75 34.625 20.71875 30.859375 \r\nQ 16.703125 27.09375 16.703125 20.515625 \r\nQ 16.703125 13.921875 20.71875 10.15625 \r\nQ 24.75 6.390625 31.78125 6.390625 \r\nQ 38.8125 6.390625 42.859375 10.171875 \r\nQ 46.921875 13.96875 46.921875 20.515625 \r\nQ 46.921875 27.09375 42.890625 30.859375 \r\nQ 38.875 34.625 31.78125 34.625 \r\nz\r\nM 21.921875 38.8125 \r\nQ 15.578125 40.375 12.03125 44.71875 \r\nQ 8.5 49.078125 8.5 55.328125 \r\nQ 8.5 64.0625 14.71875 69.140625 \r\nQ 20.953125 74.21875 31.78125 74.21875 \r\nQ 42.671875 74.21875 48.875 69.140625 \r\nQ 55.078125 64.0625 55.078125 55.328125 \r\nQ 55.078125 49.078125 51.53125 44.71875 \r\nQ 48 40.375 41.703125 38.8125 \r\nQ 48.828125 37.15625 52.796875 32.3125 \r\nQ 56.78125 27.484375 56.78125 20.515625 \r\nQ 56.78125 9.90625 50.3125 4.234375 \r\nQ 43.84375 -1.421875 31.78125 -1.421875 \r\nQ 19.734375 -1.421875 13.25 4.234375 \r\nQ 6.78125 9.90625 6.78125 20.515625 \r\nQ 6.78125 27.484375 10.78125 32.3125 \r\nQ 14.796875 37.15625 21.921875 38.8125 \r\nz\r\nM 18.3125 54.390625 \r\nQ 18.3125 48.734375 21.84375 45.5625 \r\nQ 25.390625 42.390625 31.78125 42.390625 \r\nQ 38.140625 42.390625 41.71875 45.5625 \r\nQ 45.3125 48.734375 45.3125 54.390625 \r\nQ 45.3125 60.0625 41.71875 63.234375 \r\nQ 38.140625 66.40625 31.78125 66.40625 \r\nQ 25.390625 66.40625 21.84375 63.234375 \r\nQ 18.3125 60.0625 18.3125 54.390625 \r\nz\r\n\" id=\"DejaVuSans-56\"/>\r\n       </defs>\r\n       <use xlink:href=\"#DejaVuSans-56\"/>\r\n       <use x=\"63.623047\" xlink:href=\"#DejaVuSans-48\"/>\r\n       <use x=\"127.246094\" xlink:href=\"#DejaVuSans-48\"/>\r\n      </g>\r\n     </g>\r\n    </g>\r\n    <g id=\"ytick_6\">\r\n     <g id=\"line2d_20\">\r\n      <g>\r\n       <use style=\"stroke:#000000;stroke-width:0.8;\" x=\"53.328125\" xlink:href=\"#m8ecd065303\" y=\"21.289262\"/>\r\n      </g>\r\n     </g>\r\n     <g id=\"text_21\">\r\n      <!-- 1000 -->\r\n      <g transform=\"translate(20.878125 25.088481)scale(0.1 -0.1)\">\r\n       <defs>\r\n        <path d=\"M 12.40625 8.296875 \r\nL 28.515625 8.296875 \r\nL 28.515625 63.921875 \r\nL 10.984375 60.40625 \r\nL 10.984375 69.390625 \r\nL 28.421875 72.90625 \r\nL 38.28125 72.90625 \r\nL 38.28125 8.296875 \r\nL 54.390625 8.296875 \r\nL 54.390625 0 \r\nL 12.40625 0 \r\nz\r\n\" id=\"DejaVuSans-49\"/>\r\n       </defs>\r\n       <use xlink:href=\"#DejaVuSans-49\"/>\r\n       <use x=\"63.623047\" xlink:href=\"#DejaVuSans-48\"/>\r\n       <use x=\"127.246094\" xlink:href=\"#DejaVuSans-48\"/>\r\n       <use x=\"190.869141\" xlink:href=\"#DejaVuSans-48\"/>\r\n      </g>\r\n     </g>\r\n    </g>\r\n    <g id=\"text_22\">\r\n     <!-- count -->\r\n     <g transform=\"translate(14.798437 211.56625)rotate(-90)scale(0.1 -0.1)\">\r\n      <defs>\r\n       <path d=\"M 48.78125 52.59375 \r\nL 48.78125 44.1875 \r\nQ 44.96875 46.296875 41.140625 47.34375 \r\nQ 37.3125 48.390625 33.40625 48.390625 \r\nQ 24.65625 48.390625 19.8125 42.84375 \r\nQ 14.984375 37.3125 14.984375 27.296875 \r\nQ 14.984375 17.28125 19.8125 11.734375 \r\nQ 24.65625 6.203125 33.40625 6.203125 \r\nQ 37.3125 6.203125 41.140625 7.25 \r\nQ 44.96875 8.296875 48.78125 10.40625 \r\nL 48.78125 2.09375 \r\nQ 45.015625 0.34375 40.984375 -0.53125 \r\nQ 36.96875 -1.421875 32.421875 -1.421875 \r\nQ 20.0625 -1.421875 12.78125 6.34375 \r\nQ 5.515625 14.109375 5.515625 27.296875 \r\nQ 5.515625 40.671875 12.859375 48.328125 \r\nQ 20.21875 56 33.015625 56 \r\nQ 37.15625 56 41.109375 55.140625 \r\nQ 45.0625 54.296875 48.78125 52.59375 \r\nz\r\n\" id=\"DejaVuSans-99\"/>\r\n       <path d=\"M 30.609375 48.390625 \r\nQ 23.390625 48.390625 19.1875 42.75 \r\nQ 14.984375 37.109375 14.984375 27.296875 \r\nQ 14.984375 17.484375 19.15625 11.84375 \r\nQ 23.34375 6.203125 30.609375 6.203125 \r\nQ 37.796875 6.203125 41.984375 11.859375 \r\nQ 46.1875 17.53125 46.1875 27.296875 \r\nQ 46.1875 37.015625 41.984375 42.703125 \r\nQ 37.796875 48.390625 30.609375 48.390625 \r\nz\r\nM 30.609375 56 \r\nQ 42.328125 56 49.015625 48.375 \r\nQ 55.71875 40.765625 55.71875 27.296875 \r\nQ 55.71875 13.875 49.015625 6.21875 \r\nQ 42.328125 -1.421875 30.609375 -1.421875 \r\nQ 18.84375 -1.421875 12.171875 6.21875 \r\nQ 5.515625 13.875 5.515625 27.296875 \r\nQ 5.515625 40.765625 12.171875 48.375 \r\nQ 18.84375 56 30.609375 56 \r\nz\r\n\" id=\"DejaVuSans-111\"/>\r\n      </defs>\r\n      <use xlink:href=\"#DejaVuSans-99\"/>\r\n      <use x=\"54.980469\" xlink:href=\"#DejaVuSans-111\"/>\r\n      <use x=\"116.162109\" xlink:href=\"#DejaVuSans-117\"/>\r\n      <use x=\"179.541016\" xlink:href=\"#DejaVuSans-110\"/>\r\n      <use x=\"242.919922\" xlink:href=\"#DejaVuSans-116\"/>\r\n     </g>\r\n    </g>\r\n   </g>\r\n   <g id=\"patch_17\">\r\n    <path d=\"M 53.328125 387.72 \r\nL 53.328125 7.2 \r\n\" style=\"fill:none;stroke:#000000;stroke-linecap:square;stroke-linejoin:miter;stroke-width:0.8;\"/>\r\n   </g>\r\n   <g id=\"patch_18\">\r\n    <path d=\"M 1169.328125 387.72 \r\nL 1169.328125 7.2 \r\n\" style=\"fill:none;stroke:#000000;stroke-linecap:square;stroke-linejoin:miter;stroke-width:0.8;\"/>\r\n   </g>\r\n   <g id=\"patch_19\">\r\n    <path d=\"M 53.328125 387.72 \r\nL 1169.328125 387.72 \r\n\" style=\"fill:none;stroke:#000000;stroke-linecap:square;stroke-linejoin:miter;stroke-width:0.8;\"/>\r\n   </g>\r\n   <g id=\"patch_20\">\r\n    <path d=\"M 53.328125 7.2 \r\nL 1169.328125 7.2 \r\n\" style=\"fill:none;stroke:#000000;stroke-linecap:square;stroke-linejoin:miter;stroke-width:0.8;\"/>\r\n   </g>\r\n  </g>\r\n </g>\r\n <defs>\r\n  <clipPath id=\"pd95362f36d\">\r\n   <rect height=\"380.52\" width=\"1116\" x=\"53.328125\" y=\"7.2\"/>\r\n  </clipPath>\r\n </defs>\r\n</svg>\r\n",
      "image/png": "[encoded data removed]"
     },
     "metadata": {
      "needs_background": "light"
     }
    }
   ],
   "source": [
    "plt.figure(figsize = (20, 7))\n",
    "sns.countplot(x=\"lang_abv\", data=data_)"
   ]
  },
  {
   "cell_type": "code",
   "execution_count": 363,
   "metadata": {},
   "outputs": [
    {
     "output_type": "execute_result",
     "data": {
      "text/plain": [
       "id            0\n",
       "premise       0\n",
       "hypothesis    0\n",
       "lang_abv      0\n",
       "language      0\n",
       "label         0\n",
       "dtype: int64"
      ]
     },
     "metadata": {},
     "execution_count": 363
    }
   ],
   "source": [
    "data_.isnull().sum()"
   ]
  },
  {
   "cell_type": "code",
   "execution_count": 364,
   "metadata": {},
   "outputs": [],
   "source": [
    "data_arabic = data_[data_[\"lang_abv\"] == \"ar\"]"
   ]
  },
  {
   "cell_type": "code",
   "execution_count": 365,
   "metadata": {},
   "outputs": [],
   "source": [
    "data_russian = data_[data_[\"lang_abv\"] == \"ru\"]"
   ]
  },
  {
   "cell_type": "code",
   "execution_count": 366,
   "metadata": {},
   "outputs": [],
   "source": [
    "data_hindi = data_[data_[\"lang_abv\"] == \"hi\"]"
   ]
  },
  {
   "cell_type": "code",
   "execution_count": 367,
   "metadata": {},
   "outputs": [],
   "source": [
    "data_urdu = data_[data_[\"lang_abv\"] == \"ur\"]"
   ]
  },
  {
   "cell_type": "code",
   "execution_count": 368,
   "metadata": {},
   "outputs": [],
   "source": [
    "data_swahili = data_[data_[\"lang_abv\"] == \"sw\"]"
   ]
  },
  {
   "cell_type": "code",
   "execution_count": 369,
   "metadata": {},
   "outputs": [],
   "source": [
    "data_greek = data_[data_[\"lang_abv\"] == \"el\"]"
   ]
  },
  {
   "cell_type": "code",
   "execution_count": 370,
   "metadata": {},
   "outputs": [],
   "source": [
    "data_german = data_[data_[\"lang_abv\"] == \"de\"]"
   ]
  },
  {
   "cell_type": "code",
   "execution_count": 371,
   "metadata": {},
   "outputs": [],
   "source": [
    "data_vietnamese = data_[data_[\"lang_abv\"] == \"vi\"]"
   ]
  },
  {
   "cell_type": "code",
   "execution_count": 372,
   "metadata": {},
   "outputs": [],
   "source": [
    "data_spanish = data_[data_[\"lang_abv\"] == \"es\"]"
   ]
  },
  {
   "cell_type": "code",
   "execution_count": 373,
   "metadata": {},
   "outputs": [],
   "source": [
    "data_turkish = data_[data_[\"lang_abv\"] == \"tr\"]"
   ]
  },
  {
   "cell_type": "code",
   "execution_count": 374,
   "metadata": {},
   "outputs": [],
   "source": [
    "data_french = data_[data_[\"lang_abv\"] == \"fr\"]"
   ]
  },
  {
   "cell_type": "code",
   "execution_count": 375,
   "metadata": {},
   "outputs": [],
   "source": [
    "data_thai = data_[data_[\"lang_abv\"] == \"th\"]"
   ]
  },
  {
   "cell_type": "code",
   "execution_count": 376,
   "metadata": {},
   "outputs": [],
   "source": [
    "data_bulgarian = data_[data_[\"lang_abv\"] == \"bg\"]"
   ]
  },
  {
   "cell_type": "code",
   "execution_count": 377,
   "metadata": {},
   "outputs": [],
   "source": [
    "data_chinese = data_[data_[\"lang_abv\"] == \"zh\"]"
   ]
  },
  {
   "cell_type": "code",
   "execution_count": 378,
   "metadata": {},
   "outputs": [],
   "source": [
    "data_arabic_ = data_arabic.iloc[:, [1, 2, 3]]"
   ]
  },
  {
   "cell_type": "code",
   "execution_count": 379,
   "metadata": {},
   "outputs": [],
   "source": [
    "data_bulgarian_ = data_bulgarian.iloc[:, [1, 2, 3]]"
   ]
  },
  {
   "cell_type": "code",
   "execution_count": 380,
   "metadata": {},
   "outputs": [],
   "source": [
    "data_chinese_ = data_chinese.iloc[:, [1, 2, 3]]"
   ]
  },
  {
   "cell_type": "code",
   "execution_count": 381,
   "metadata": {},
   "outputs": [],
   "source": [
    "data_french_ = data_french.iloc[:, [1, 2, 3]]"
   ]
  },
  {
   "cell_type": "code",
   "execution_count": 382,
   "metadata": {},
   "outputs": [],
   "source": [
    "data_german_ = data_german.iloc[:, [1, 2, 3]]"
   ]
  },
  {
   "cell_type": "code",
   "execution_count": 383,
   "metadata": {},
   "outputs": [],
   "source": [
    "data_greek_ = data_greek.iloc[:, [1, 2, 3]]"
   ]
  },
  {
   "cell_type": "code",
   "execution_count": 384,
   "metadata": {},
   "outputs": [],
   "source": [
    "data_hindi_ = data_hindi.iloc[:, [1, 2, 3]]"
   ]
  },
  {
   "cell_type": "code",
   "execution_count": 385,
   "metadata": {},
   "outputs": [],
   "source": [
    "data_russian_ = data_russian.iloc[:, [1, 2, 3]]"
   ]
  },
  {
   "cell_type": "code",
   "execution_count": 386,
   "metadata": {},
   "outputs": [],
   "source": [
    "data_spanish_ = data_spanish.iloc[:, [1, 2, 3]]"
   ]
  },
  {
   "cell_type": "code",
   "execution_count": 387,
   "metadata": {},
   "outputs": [],
   "source": [
    "data_swahili_ = data_swahili.iloc[:, [1, 2, 3]]"
   ]
  },
  {
   "cell_type": "code",
   "execution_count": 388,
   "metadata": {},
   "outputs": [],
   "source": [
    "data_thai_ = data_thai.iloc[:, [1, 2, 3]]"
   ]
  },
  {
   "cell_type": "code",
   "execution_count": 389,
   "metadata": {},
   "outputs": [],
   "source": [
    "data_turkish_ = data_turkish.iloc[:, [1, 2, 3]]"
   ]
  },
  {
   "cell_type": "code",
   "execution_count": 390,
   "metadata": {},
   "outputs": [],
   "source": [
    "data_urdu_ = data_urdu.iloc[:, [1, 2, 3]]"
   ]
  },
  {
   "cell_type": "code",
   "execution_count": 391,
   "metadata": {},
   "outputs": [],
   "source": [
    "data_vietnamese_ = data_vietnamese.iloc[:, [1, 2, 3, 4]]"
   ]
  },
  {
   "source": [
    "---------------"
   ],
   "cell_type": "markdown",
   "metadata": {}
  },
  {
   "cell_type": "code",
   "execution_count": 395,
   "metadata": {},
   "outputs": [
    {
     "output_type": "execute_result",
     "data": {
      "text/plain": [
       "(850, 3)"
      ]
     },
     "metadata": {},
     "execution_count": 395
    }
   ],
   "source": [
    "data_spanish_.shape"
   ]
  },
  {
   "cell_type": "code",
   "execution_count": 404,
   "metadata": {},
   "outputs": [],
   "source": [
    "data_spanish_ = data_spanish_[:].values"
   ]
  },
  {
   "cell_type": "code",
   "execution_count": 405,
   "metadata": {},
   "outputs": [],
   "source": [
    "data_spanish_ = pd.DataFrame(data = data_spanish_, columns=[\"text 1\", \"text 2\", \"code\"])"
   ]
  },
  {
   "cell_type": "code",
   "execution_count": 406,
   "metadata": {},
   "outputs": [],
   "source": [
    "data_spanish_label = pd.DataFrame(data=np.zeros(850), columns=[\"label\"])"
   ]
  },
  {
   "cell_type": "code",
   "execution_count": 409,
   "metadata": {},
   "outputs": [],
   "source": [
    "data_spanish__ = pd.concat([data_spanish_, data_spanish_label], axis=1)"
   ]
  },
  {
   "cell_type": "code",
   "execution_count": 410,
   "metadata": {},
   "outputs": [
    {
     "output_type": "execute_result",
     "data": {
      "text/plain": [
       "                                                text 1  \\\n",
       "0    Se dio cuenta de que tal vez ella misma lo irr...   \n",
       "1        Dios conoce muchas mentiras y puedo probarlo.   \n",
       "2    El cercano Xlapak tiene solo un edificio princ...   \n",
       "3    Estaré encantado de responder cualquier pregun...   \n",
       "4    Para asesorarlo, no dude en comunicarse con Ka...   \n",
       "..                                                 ...   \n",
       "845  La mayoría de los hogares tendrán un belén lis...   \n",
       "846  Los Juegos Olímpicos de 1992 distinguieron a B...   \n",
       "847                   Lo que vemos es una descripción.   \n",
       "848  Los conejos no se vieron afectados por estos s...   \n",
       "849  De 6 a 6 años: tour gratuito y tarifa militar ...   \n",
       "\n",
       "                                                text 2 code  label  \n",
       "0                  Pensó que tal vez podría irritarla.   es    0.0  \n",
       "1    Puedo probar la información falsa en la transa...   es    0.0  \n",
       "2                             Xlapak tiene un palacio.   es    0.0  \n",
       "3               Me encantaría responder a la pregunta.   es    0.0  \n",
       "4    Kathy Dannels respondió a la llamada de inmedi...   es    0.0  \n",
       "..                                                 ...  ...    ...  \n",
       "845       Las escenas de nacimiento son muy complejas.   es    0.0  \n",
       "846  Los Juegos Olímpicos tuvieron lugar en España ...   es    0.0  \n",
       "847  Los detalles están impresos en papel legal par...   es    0.0  \n",
       "848               Los rabinos no conocían las señales.   es    0.0  \n",
       "849  Desafortunadamente, en este momento no hay nin...   es    0.0  \n",
       "\n",
       "[850 rows x 4 columns]"
      ],
      "text/html": "<div>\n<style scoped>\n    .dataframe tbody tr th:only-of-type {\n        vertical-align: middle;\n    }\n\n    .dataframe tbody tr th {\n        vertical-align: top;\n    }\n\n    .dataframe thead th {\n        text-align: right;\n    }\n</style>\n<table border=\"1\" class=\"dataframe\">\n  <thead>\n    <tr style=\"text-align: right;\">\n      <th></th>\n      <th>text 1</th>\n      <th>text 2</th>\n      <th>code</th>\n      <th>label</th>\n    </tr>\n  </thead>\n  <tbody>\n    <tr>\n      <th>0</th>\n      <td>Se dio cuenta de que tal vez ella misma lo irr...</td>\n      <td>Pensó que tal vez podría irritarla.</td>\n      <td>es</td>\n      <td>0.0</td>\n    </tr>\n    <tr>\n      <th>1</th>\n      <td>Dios conoce muchas mentiras y puedo probarlo.</td>\n      <td>Puedo probar la información falsa en la transa...</td>\n      <td>es</td>\n      <td>0.0</td>\n    </tr>\n    <tr>\n      <th>2</th>\n      <td>El cercano Xlapak tiene solo un edificio princ...</td>\n      <td>Xlapak tiene un palacio.</td>\n      <td>es</td>\n      <td>0.0</td>\n    </tr>\n    <tr>\n      <th>3</th>\n      <td>Estaré encantado de responder cualquier pregun...</td>\n      <td>Me encantaría responder a la pregunta.</td>\n      <td>es</td>\n      <td>0.0</td>\n    </tr>\n    <tr>\n      <th>4</th>\n      <td>Para asesorarlo, no dude en comunicarse con Ka...</td>\n      <td>Kathy Dannels respondió a la llamada de inmedi...</td>\n      <td>es</td>\n      <td>0.0</td>\n    </tr>\n    <tr>\n      <th>...</th>\n      <td>...</td>\n      <td>...</td>\n      <td>...</td>\n      <td>...</td>\n    </tr>\n    <tr>\n      <th>845</th>\n      <td>La mayoría de los hogares tendrán un belén lis...</td>\n      <td>Las escenas de nacimiento son muy complejas.</td>\n      <td>es</td>\n      <td>0.0</td>\n    </tr>\n    <tr>\n      <th>846</th>\n      <td>Los Juegos Olímpicos de 1992 distinguieron a B...</td>\n      <td>Los Juegos Olímpicos tuvieron lugar en España ...</td>\n      <td>es</td>\n      <td>0.0</td>\n    </tr>\n    <tr>\n      <th>847</th>\n      <td>Lo que vemos es una descripción.</td>\n      <td>Los detalles están impresos en papel legal par...</td>\n      <td>es</td>\n      <td>0.0</td>\n    </tr>\n    <tr>\n      <th>848</th>\n      <td>Los conejos no se vieron afectados por estos s...</td>\n      <td>Los rabinos no conocían las señales.</td>\n      <td>es</td>\n      <td>0.0</td>\n    </tr>\n    <tr>\n      <th>849</th>\n      <td>De 6 a 6 años: tour gratuito y tarifa militar ...</td>\n      <td>Desafortunadamente, en este momento no hay nin...</td>\n      <td>es</td>\n      <td>0.0</td>\n    </tr>\n  </tbody>\n</table>\n<p>850 rows × 4 columns</p>\n</div>"
     },
     "metadata": {},
     "execution_count": 410
    }
   ],
   "source": [
    "data_spanish__"
   ]
  },
  {
   "cell_type": "code",
   "execution_count": 411,
   "metadata": {},
   "outputs": [
    {
     "output_type": "execute_result",
     "data": {
      "text/plain": [
       "(989, 3)"
      ]
     },
     "metadata": {},
     "execution_count": 411
    }
   ],
   "source": [
    "data_french_.shape"
   ]
  },
  {
   "cell_type": "code",
   "execution_count": 412,
   "metadata": {},
   "outputs": [],
   "source": [
    "data_french_ = data_french_[:].values\n",
    "data_french_ = pd.DataFrame(data=data_french_, columns=[\"text 1\", \"text 2\", \"code\"])"
   ]
  },
  {
   "cell_type": "code",
   "execution_count": 413,
   "metadata": {},
   "outputs": [
    {
     "output_type": "execute_result",
     "data": {
      "text/plain": [
       "                                                text 1  \\\n",
       "0                      Oh, pour moi, j'aime l'ambiance   \n",
       "1    Il est venu et a ouvert la porte Je me souvien...   \n",
       "2    Veuillez éviter de vous faire prendre dans not...   \n",
       "3    Une voix rauque fit un appel pour un bateau qu...   \n",
       "4    Il y a une différence entre les soupçons diabo...   \n",
       "..                                                 ...   \n",
       "984  Les renseignements du Congrès - et les contre-...   \n",
       "985  Ils n'ont pas de neige, ils ne savent pas ce q...   \n",
       "986  De plus, la mort inévitable de Pokémon nous do...   \n",
       "987  Les treize couleurs de ce magnifique tapis sym...   \n",
       "988  Elle dit: \"Mais vous devez regarder ici, regar...   \n",
       "\n",
       "                                                text 2 code  \n",
       "0    Je me sens en sécurité ici, c'est pourquoi j'a...   fr  \n",
       "1    Il a essayé de ne pas nous faire sentir à l'in...   fr  \n",
       "2    La liste de nos donateurs décédés est rendue p...   fr  \n",
       "3    Lorsque le navire est entré en collision avec ...   fr  \n",
       "4    Le scepticisme cannibale est plus courant que ...   fr  \n",
       "..                                                 ...  ...  \n",
       "984  Le Congrès n'a jamais surveillé le renseigneme...   fr  \n",
       "985  Les habitants d'Amarillo refusent de quitter l...   fr  \n",
       "986  Avec l'extinction de Ni, une nouvelle opportun...   fr  \n",
       "987  Cette nation avait treize colonies, et plus on...   fr  \n",
       "988                            Il m'a dit où chercher.   fr  \n",
       "\n",
       "[989 rows x 3 columns]"
      ],
      "text/html": "<div>\n<style scoped>\n    .dataframe tbody tr th:only-of-type {\n        vertical-align: middle;\n    }\n\n    .dataframe tbody tr th {\n        vertical-align: top;\n    }\n\n    .dataframe thead th {\n        text-align: right;\n    }\n</style>\n<table border=\"1\" class=\"dataframe\">\n  <thead>\n    <tr style=\"text-align: right;\">\n      <th></th>\n      <th>text 1</th>\n      <th>text 2</th>\n      <th>code</th>\n    </tr>\n  </thead>\n  <tbody>\n    <tr>\n      <th>0</th>\n      <td>Oh, pour moi, j'aime l'ambiance</td>\n      <td>Je me sens en sécurité ici, c'est pourquoi j'a...</td>\n      <td>fr</td>\n    </tr>\n    <tr>\n      <th>1</th>\n      <td>Il est venu et a ouvert la porte Je me souvien...</td>\n      <td>Il a essayé de ne pas nous faire sentir à l'in...</td>\n      <td>fr</td>\n    </tr>\n    <tr>\n      <th>2</th>\n      <td>Veuillez éviter de vous faire prendre dans not...</td>\n      <td>La liste de nos donateurs décédés est rendue p...</td>\n      <td>fr</td>\n    </tr>\n    <tr>\n      <th>3</th>\n      <td>Une voix rauque fit un appel pour un bateau qu...</td>\n      <td>Lorsque le navire est entré en collision avec ...</td>\n      <td>fr</td>\n    </tr>\n    <tr>\n      <th>4</th>\n      <td>Il y a une différence entre les soupçons diabo...</td>\n      <td>Le scepticisme cannibale est plus courant que ...</td>\n      <td>fr</td>\n    </tr>\n    <tr>\n      <th>...</th>\n      <td>...</td>\n      <td>...</td>\n      <td>...</td>\n    </tr>\n    <tr>\n      <th>984</th>\n      <td>Les renseignements du Congrès - et les contre-...</td>\n      <td>Le Congrès n'a jamais surveillé le renseigneme...</td>\n      <td>fr</td>\n    </tr>\n    <tr>\n      <th>985</th>\n      <td>Ils n'ont pas de neige, ils ne savent pas ce q...</td>\n      <td>Les habitants d'Amarillo refusent de quitter l...</td>\n      <td>fr</td>\n    </tr>\n    <tr>\n      <th>986</th>\n      <td>De plus, la mort inévitable de Pokémon nous do...</td>\n      <td>Avec l'extinction de Ni, une nouvelle opportun...</td>\n      <td>fr</td>\n    </tr>\n    <tr>\n      <th>987</th>\n      <td>Les treize couleurs de ce magnifique tapis sym...</td>\n      <td>Cette nation avait treize colonies, et plus on...</td>\n      <td>fr</td>\n    </tr>\n    <tr>\n      <th>988</th>\n      <td>Elle dit: \"Mais vous devez regarder ici, regar...</td>\n      <td>Il m'a dit où chercher.</td>\n      <td>fr</td>\n    </tr>\n  </tbody>\n</table>\n<p>989 rows × 3 columns</p>\n</div>"
     },
     "metadata": {},
     "execution_count": 413
    }
   ],
   "source": [
    "data_french_"
   ]
  },
  {
   "cell_type": "code",
   "execution_count": 415,
   "metadata": {},
   "outputs": [],
   "source": [
    "data_french_label = pd.DataFrame(data=np.ones(989), columns=[\"label\"])"
   ]
  },
  {
   "cell_type": "code",
   "execution_count": 416,
   "metadata": {},
   "outputs": [],
   "source": [
    "data_french__ = pd.concat([data_french_, data_french_label], axis=1)"
   ]
  },
  {
   "cell_type": "code",
   "execution_count": 417,
   "metadata": {},
   "outputs": [
    {
     "output_type": "execute_result",
     "data": {
      "text/plain": [
       "                                                text 1  \\\n",
       "0                      Oh, pour moi, j'aime l'ambiance   \n",
       "1    Il est venu et a ouvert la porte Je me souvien...   \n",
       "2    Veuillez éviter de vous faire prendre dans not...   \n",
       "3    Une voix rauque fit un appel pour un bateau qu...   \n",
       "4    Il y a une différence entre les soupçons diabo...   \n",
       "..                                                 ...   \n",
       "984  Les renseignements du Congrès - et les contre-...   \n",
       "985  Ils n'ont pas de neige, ils ne savent pas ce q...   \n",
       "986  De plus, la mort inévitable de Pokémon nous do...   \n",
       "987  Les treize couleurs de ce magnifique tapis sym...   \n",
       "988  Elle dit: \"Mais vous devez regarder ici, regar...   \n",
       "\n",
       "                                                text 2 code  label  \n",
       "0    Je me sens en sécurité ici, c'est pourquoi j'a...   fr    1.0  \n",
       "1    Il a essayé de ne pas nous faire sentir à l'in...   fr    1.0  \n",
       "2    La liste de nos donateurs décédés est rendue p...   fr    1.0  \n",
       "3    Lorsque le navire est entré en collision avec ...   fr    1.0  \n",
       "4    Le scepticisme cannibale est plus courant que ...   fr    1.0  \n",
       "..                                                 ...  ...    ...  \n",
       "984  Le Congrès n'a jamais surveillé le renseigneme...   fr    1.0  \n",
       "985  Les habitants d'Amarillo refusent de quitter l...   fr    1.0  \n",
       "986  Avec l'extinction de Ni, une nouvelle opportun...   fr    1.0  \n",
       "987  Cette nation avait treize colonies, et plus on...   fr    1.0  \n",
       "988                            Il m'a dit où chercher.   fr    1.0  \n",
       "\n",
       "[989 rows x 4 columns]"
      ],
      "text/html": "<div>\n<style scoped>\n    .dataframe tbody tr th:only-of-type {\n        vertical-align: middle;\n    }\n\n    .dataframe tbody tr th {\n        vertical-align: top;\n    }\n\n    .dataframe thead th {\n        text-align: right;\n    }\n</style>\n<table border=\"1\" class=\"dataframe\">\n  <thead>\n    <tr style=\"text-align: right;\">\n      <th></th>\n      <th>text 1</th>\n      <th>text 2</th>\n      <th>code</th>\n      <th>label</th>\n    </tr>\n  </thead>\n  <tbody>\n    <tr>\n      <th>0</th>\n      <td>Oh, pour moi, j'aime l'ambiance</td>\n      <td>Je me sens en sécurité ici, c'est pourquoi j'a...</td>\n      <td>fr</td>\n      <td>1.0</td>\n    </tr>\n    <tr>\n      <th>1</th>\n      <td>Il est venu et a ouvert la porte Je me souvien...</td>\n      <td>Il a essayé de ne pas nous faire sentir à l'in...</td>\n      <td>fr</td>\n      <td>1.0</td>\n    </tr>\n    <tr>\n      <th>2</th>\n      <td>Veuillez éviter de vous faire prendre dans not...</td>\n      <td>La liste de nos donateurs décédés est rendue p...</td>\n      <td>fr</td>\n      <td>1.0</td>\n    </tr>\n    <tr>\n      <th>3</th>\n      <td>Une voix rauque fit un appel pour un bateau qu...</td>\n      <td>Lorsque le navire est entré en collision avec ...</td>\n      <td>fr</td>\n      <td>1.0</td>\n    </tr>\n    <tr>\n      <th>4</th>\n      <td>Il y a une différence entre les soupçons diabo...</td>\n      <td>Le scepticisme cannibale est plus courant que ...</td>\n      <td>fr</td>\n      <td>1.0</td>\n    </tr>\n    <tr>\n      <th>...</th>\n      <td>...</td>\n      <td>...</td>\n      <td>...</td>\n      <td>...</td>\n    </tr>\n    <tr>\n      <th>984</th>\n      <td>Les renseignements du Congrès - et les contre-...</td>\n      <td>Le Congrès n'a jamais surveillé le renseigneme...</td>\n      <td>fr</td>\n      <td>1.0</td>\n    </tr>\n    <tr>\n      <th>985</th>\n      <td>Ils n'ont pas de neige, ils ne savent pas ce q...</td>\n      <td>Les habitants d'Amarillo refusent de quitter l...</td>\n      <td>fr</td>\n      <td>1.0</td>\n    </tr>\n    <tr>\n      <th>986</th>\n      <td>De plus, la mort inévitable de Pokémon nous do...</td>\n      <td>Avec l'extinction de Ni, une nouvelle opportun...</td>\n      <td>fr</td>\n      <td>1.0</td>\n    </tr>\n    <tr>\n      <th>987</th>\n      <td>Les treize couleurs de ce magnifique tapis sym...</td>\n      <td>Cette nation avait treize colonies, et plus on...</td>\n      <td>fr</td>\n      <td>1.0</td>\n    </tr>\n    <tr>\n      <th>988</th>\n      <td>Elle dit: \"Mais vous devez regarder ici, regar...</td>\n      <td>Il m'a dit où chercher.</td>\n      <td>fr</td>\n      <td>1.0</td>\n    </tr>\n  </tbody>\n</table>\n<p>989 rows × 4 columns</p>\n</div>"
     },
     "metadata": {},
     "execution_count": 417
    }
   ],
   "source": [
    "data_french__"
   ]
  },
  {
   "cell_type": "code",
   "execution_count": 418,
   "metadata": {},
   "outputs": [],
   "source": [
    "data_spanish_french_ = pd.concat([data_french__, data_spanish__], axis=0)"
   ]
  },
  {
   "cell_type": "code",
   "execution_count": 419,
   "metadata": {},
   "outputs": [
    {
     "output_type": "execute_result",
     "data": {
      "text/plain": [
       "                                                text 1  \\\n",
       "0                      Oh, pour moi, j'aime l'ambiance   \n",
       "1    Il est venu et a ouvert la porte Je me souvien...   \n",
       "2    Veuillez éviter de vous faire prendre dans not...   \n",
       "3    Une voix rauque fit un appel pour un bateau qu...   \n",
       "4    Il y a une différence entre les soupçons diabo...   \n",
       "..                                                 ...   \n",
       "845  La mayoría de los hogares tendrán un belén lis...   \n",
       "846  Los Juegos Olímpicos de 1992 distinguieron a B...   \n",
       "847                   Lo que vemos es una descripción.   \n",
       "848  Los conejos no se vieron afectados por estos s...   \n",
       "849  De 6 a 6 años: tour gratuito y tarifa militar ...   \n",
       "\n",
       "                                                text 2 code  label  \n",
       "0    Je me sens en sécurité ici, c'est pourquoi j'a...   fr    1.0  \n",
       "1    Il a essayé de ne pas nous faire sentir à l'in...   fr    1.0  \n",
       "2    La liste de nos donateurs décédés est rendue p...   fr    1.0  \n",
       "3    Lorsque le navire est entré en collision avec ...   fr    1.0  \n",
       "4    Le scepticisme cannibale est plus courant que ...   fr    1.0  \n",
       "..                                                 ...  ...    ...  \n",
       "845       Las escenas de nacimiento son muy complejas.   es    0.0  \n",
       "846  Los Juegos Olímpicos tuvieron lugar en España ...   es    0.0  \n",
       "847  Los detalles están impresos en papel legal par...   es    0.0  \n",
       "848               Los rabinos no conocían las señales.   es    0.0  \n",
       "849  Desafortunadamente, en este momento no hay nin...   es    0.0  \n",
       "\n",
       "[1839 rows x 4 columns]"
      ],
      "text/html": "<div>\n<style scoped>\n    .dataframe tbody tr th:only-of-type {\n        vertical-align: middle;\n    }\n\n    .dataframe tbody tr th {\n        vertical-align: top;\n    }\n\n    .dataframe thead th {\n        text-align: right;\n    }\n</style>\n<table border=\"1\" class=\"dataframe\">\n  <thead>\n    <tr style=\"text-align: right;\">\n      <th></th>\n      <th>text 1</th>\n      <th>text 2</th>\n      <th>code</th>\n      <th>label</th>\n    </tr>\n  </thead>\n  <tbody>\n    <tr>\n      <th>0</th>\n      <td>Oh, pour moi, j'aime l'ambiance</td>\n      <td>Je me sens en sécurité ici, c'est pourquoi j'a...</td>\n      <td>fr</td>\n      <td>1.0</td>\n    </tr>\n    <tr>\n      <th>1</th>\n      <td>Il est venu et a ouvert la porte Je me souvien...</td>\n      <td>Il a essayé de ne pas nous faire sentir à l'in...</td>\n      <td>fr</td>\n      <td>1.0</td>\n    </tr>\n    <tr>\n      <th>2</th>\n      <td>Veuillez éviter de vous faire prendre dans not...</td>\n      <td>La liste de nos donateurs décédés est rendue p...</td>\n      <td>fr</td>\n      <td>1.0</td>\n    </tr>\n    <tr>\n      <th>3</th>\n      <td>Une voix rauque fit un appel pour un bateau qu...</td>\n      <td>Lorsque le navire est entré en collision avec ...</td>\n      <td>fr</td>\n      <td>1.0</td>\n    </tr>\n    <tr>\n      <th>4</th>\n      <td>Il y a une différence entre les soupçons diabo...</td>\n      <td>Le scepticisme cannibale est plus courant que ...</td>\n      <td>fr</td>\n      <td>1.0</td>\n    </tr>\n    <tr>\n      <th>...</th>\n      <td>...</td>\n      <td>...</td>\n      <td>...</td>\n      <td>...</td>\n    </tr>\n    <tr>\n      <th>845</th>\n      <td>La mayoría de los hogares tendrán un belén lis...</td>\n      <td>Las escenas de nacimiento son muy complejas.</td>\n      <td>es</td>\n      <td>0.0</td>\n    </tr>\n    <tr>\n      <th>846</th>\n      <td>Los Juegos Olímpicos de 1992 distinguieron a B...</td>\n      <td>Los Juegos Olímpicos tuvieron lugar en España ...</td>\n      <td>es</td>\n      <td>0.0</td>\n    </tr>\n    <tr>\n      <th>847</th>\n      <td>Lo que vemos es una descripción.</td>\n      <td>Los detalles están impresos en papel legal par...</td>\n      <td>es</td>\n      <td>0.0</td>\n    </tr>\n    <tr>\n      <th>848</th>\n      <td>Los conejos no se vieron afectados por estos s...</td>\n      <td>Los rabinos no conocían las señales.</td>\n      <td>es</td>\n      <td>0.0</td>\n    </tr>\n    <tr>\n      <th>849</th>\n      <td>De 6 a 6 años: tour gratuito y tarifa militar ...</td>\n      <td>Desafortunadamente, en este momento no hay nin...</td>\n      <td>es</td>\n      <td>0.0</td>\n    </tr>\n  </tbody>\n</table>\n<p>1839 rows × 4 columns</p>\n</div>"
     },
     "metadata": {},
     "execution_count": 419
    }
   ],
   "source": [
    "data_spanish_french_"
   ]
  },
  {
   "cell_type": "code",
   "execution_count": 420,
   "metadata": {},
   "outputs": [],
   "source": [
    "data_spanish_french_ = data_spanish_french_[:].values"
   ]
  },
  {
   "cell_type": "code",
   "execution_count": 421,
   "metadata": {},
   "outputs": [],
   "source": [
    "data_spanish_french_ = pd.DataFrame(data = data_spanish_french_, columns=[\"text 1\", \"text 2\", \"code\", \"label\"])"
   ]
  },
  {
   "cell_type": "code",
   "execution_count": 422,
   "metadata": {},
   "outputs": [
    {
     "output_type": "execute_result",
     "data": {
      "text/plain": [
       "                                                 text 1  \\\n",
       "0                       Oh, pour moi, j'aime l'ambiance   \n",
       "1     Il est venu et a ouvert la porte Je me souvien...   \n",
       "2     Veuillez éviter de vous faire prendre dans not...   \n",
       "3     Une voix rauque fit un appel pour un bateau qu...   \n",
       "4     Il y a une différence entre les soupçons diabo...   \n",
       "...                                                 ...   \n",
       "1834  La mayoría de los hogares tendrán un belén lis...   \n",
       "1835  Los Juegos Olímpicos de 1992 distinguieron a B...   \n",
       "1836                   Lo que vemos es una descripción.   \n",
       "1837  Los conejos no se vieron afectados por estos s...   \n",
       "1838  De 6 a 6 años: tour gratuito y tarifa militar ...   \n",
       "\n",
       "                                                 text 2 code label  \n",
       "0     Je me sens en sécurité ici, c'est pourquoi j'a...   fr     1  \n",
       "1     Il a essayé de ne pas nous faire sentir à l'in...   fr     1  \n",
       "2     La liste de nos donateurs décédés est rendue p...   fr     1  \n",
       "3     Lorsque le navire est entré en collision avec ...   fr     1  \n",
       "4     Le scepticisme cannibale est plus courant que ...   fr     1  \n",
       "...                                                 ...  ...   ...  \n",
       "1834       Las escenas de nacimiento son muy complejas.   es     0  \n",
       "1835  Los Juegos Olímpicos tuvieron lugar en España ...   es     0  \n",
       "1836  Los detalles están impresos en papel legal par...   es     0  \n",
       "1837               Los rabinos no conocían las señales.   es     0  \n",
       "1838  Desafortunadamente, en este momento no hay nin...   es     0  \n",
       "\n",
       "[1839 rows x 4 columns]"
      ],
      "text/html": "<div>\n<style scoped>\n    .dataframe tbody tr th:only-of-type {\n        vertical-align: middle;\n    }\n\n    .dataframe tbody tr th {\n        vertical-align: top;\n    }\n\n    .dataframe thead th {\n        text-align: right;\n    }\n</style>\n<table border=\"1\" class=\"dataframe\">\n  <thead>\n    <tr style=\"text-align: right;\">\n      <th></th>\n      <th>text 1</th>\n      <th>text 2</th>\n      <th>code</th>\n      <th>label</th>\n    </tr>\n  </thead>\n  <tbody>\n    <tr>\n      <th>0</th>\n      <td>Oh, pour moi, j'aime l'ambiance</td>\n      <td>Je me sens en sécurité ici, c'est pourquoi j'a...</td>\n      <td>fr</td>\n      <td>1</td>\n    </tr>\n    <tr>\n      <th>1</th>\n      <td>Il est venu et a ouvert la porte Je me souvien...</td>\n      <td>Il a essayé de ne pas nous faire sentir à l'in...</td>\n      <td>fr</td>\n      <td>1</td>\n    </tr>\n    <tr>\n      <th>2</th>\n      <td>Veuillez éviter de vous faire prendre dans not...</td>\n      <td>La liste de nos donateurs décédés est rendue p...</td>\n      <td>fr</td>\n      <td>1</td>\n    </tr>\n    <tr>\n      <th>3</th>\n      <td>Une voix rauque fit un appel pour un bateau qu...</td>\n      <td>Lorsque le navire est entré en collision avec ...</td>\n      <td>fr</td>\n      <td>1</td>\n    </tr>\n    <tr>\n      <th>4</th>\n      <td>Il y a une différence entre les soupçons diabo...</td>\n      <td>Le scepticisme cannibale est plus courant que ...</td>\n      <td>fr</td>\n      <td>1</td>\n    </tr>\n    <tr>\n      <th>...</th>\n      <td>...</td>\n      <td>...</td>\n      <td>...</td>\n      <td>...</td>\n    </tr>\n    <tr>\n      <th>1834</th>\n      <td>La mayoría de los hogares tendrán un belén lis...</td>\n      <td>Las escenas de nacimiento son muy complejas.</td>\n      <td>es</td>\n      <td>0</td>\n    </tr>\n    <tr>\n      <th>1835</th>\n      <td>Los Juegos Olímpicos de 1992 distinguieron a B...</td>\n      <td>Los Juegos Olímpicos tuvieron lugar en España ...</td>\n      <td>es</td>\n      <td>0</td>\n    </tr>\n    <tr>\n      <th>1836</th>\n      <td>Lo que vemos es una descripción.</td>\n      <td>Los detalles están impresos en papel legal par...</td>\n      <td>es</td>\n      <td>0</td>\n    </tr>\n    <tr>\n      <th>1837</th>\n      <td>Los conejos no se vieron afectados por estos s...</td>\n      <td>Los rabinos no conocían las señales.</td>\n      <td>es</td>\n      <td>0</td>\n    </tr>\n    <tr>\n      <th>1838</th>\n      <td>De 6 a 6 años: tour gratuito y tarifa militar ...</td>\n      <td>Desafortunadamente, en este momento no hay nin...</td>\n      <td>es</td>\n      <td>0</td>\n    </tr>\n  </tbody>\n</table>\n<p>1839 rows × 4 columns</p>\n</div>"
     },
     "metadata": {},
     "execution_count": 422
    }
   ],
   "source": [
    "data_spanish_french_"
   ]
  },
  {
   "cell_type": "code",
   "execution_count": 423,
   "metadata": {},
   "outputs": [
    {
     "output_type": "execute_result",
     "data": {
      "text/plain": [
       "<AxesSubplot:xlabel='label', ylabel='count'>"
      ]
     },
     "metadata": {},
     "execution_count": 423
    },
    {
     "output_type": "display_data",
     "data": {
      "text/plain": "<Figure size 432x288 with 1 Axes>",
      "image/svg+xml": "<?xml version=\"1.0\" encoding=\"utf-8\" standalone=\"no\"?>\r\n<!DOCTYPE svg PUBLIC \"-//W3C//DTD SVG 1.1//EN\"\r\n  \"http://www.w3.org/Graphics/SVG/1.1/DTD/svg11.dtd\">\r\n<!-- Created with matplotlib (https://matplotlib.org/) -->\r\n<svg height=\"262.19625pt\" version=\"1.1\" viewBox=\"0 0 395.328125 262.19625\" width=\"395.328125pt\" xmlns=\"http://www.w3.org/2000/svg\" xmlns:xlink=\"http://www.w3.org/1999/xlink\">\r\n <metadata>\r\n  <rdf:RDF xmlns:cc=\"http://creativecommons.org/ns#\" xmlns:dc=\"http://purl.org/dc/elements/1.1/\" xmlns:rdf=\"http://www.w3.org/1999/02/22-rdf-syntax-ns#\">\r\n   <cc:Work>\r\n    <dc:type rdf:resource=\"http://purl.org/dc/dcmitype/StillImage\"/>\r\n    <dc:date>2021-07-04T14:50:21.129937</dc:date>\r\n    <dc:format>image/svg+xml</dc:format>\r\n    <dc:creator>\r\n     <cc:Agent>\r\n      <dc:title>Matplotlib v3.3.2, https://matplotlib.org/</dc:title>\r\n     </cc:Agent>\r\n    </dc:creator>\r\n   </cc:Work>\r\n  </rdf:RDF>\r\n </metadata>\r\n <defs>\r\n  <style type=\"text/css\">*{stroke-linecap:butt;stroke-linejoin:round;}</style>\r\n </defs>\r\n <g id=\"figure_1\">\r\n  <g id=\"patch_1\">\r\n   <path d=\"M 0 262.19625 \r\nL 395.328125 262.19625 \r\nL 395.328125 0 \r\nL 0 0 \r\nz\r\n\" style=\"fill:none;\"/>\r\n  </g>\r\n  <g id=\"axes_1\">\r\n   <g id=\"patch_2\">\r\n    <path d=\"M 53.328125 224.64 \r\nL 388.128125 224.64 \r\nL 388.128125 7.2 \r\nL 53.328125 7.2 \r\nz\r\n\" style=\"fill:#ffffff;\"/>\r\n   </g>\r\n   <g id=\"patch_3\">\r\n    <path clip-path=\"url(#p01038ed2de)\" d=\"M 70.068125 224.64 \r\nL 203.988125 224.64 \r\nL 203.988125 46.659356 \r\nL 70.068125 46.659356 \r\nz\r\n\" style=\"fill:#3274a1;\"/>\r\n   </g>\r\n   <g id=\"patch_4\">\r\n    <path clip-path=\"url(#p01038ed2de)\" d=\"M 237.468125 224.64 \r\nL 371.388125 224.64 \r\nL 371.388125 17.554286 \r\nL 237.468125 17.554286 \r\nz\r\n\" style=\"fill:#e1812c;\"/>\r\n   </g>\r\n   <g id=\"matplotlib.axis_1\">\r\n    <g id=\"xtick_1\">\r\n     <g id=\"line2d_1\">\r\n      <defs>\r\n       <path d=\"M 0 0 \r\nL 0 3.5 \r\n\" id=\"m1e0f97f524\" style=\"stroke:#000000;stroke-width:0.8;\"/>\r\n      </defs>\r\n      <g>\r\n       <use style=\"stroke:#000000;stroke-width:0.8;\" x=\"137.028125\" xlink:href=\"#m1e0f97f524\" y=\"224.64\"/>\r\n      </g>\r\n     </g>\r\n     <g id=\"text_1\">\r\n      <!-- 0.0 -->\r\n      <g transform=\"translate(129.076563 239.238438)scale(0.1 -0.1)\">\r\n       <defs>\r\n        <path d=\"M 31.78125 66.40625 \r\nQ 24.171875 66.40625 20.328125 58.90625 \r\nQ 16.5 51.421875 16.5 36.375 \r\nQ 16.5 21.390625 20.328125 13.890625 \r\nQ 24.171875 6.390625 31.78125 6.390625 \r\nQ 39.453125 6.390625 43.28125 13.890625 \r\nQ 47.125 21.390625 47.125 36.375 \r\nQ 47.125 51.421875 43.28125 58.90625 \r\nQ 39.453125 66.40625 31.78125 66.40625 \r\nz\r\nM 31.78125 74.21875 \r\nQ 44.046875 74.21875 50.515625 64.515625 \r\nQ 56.984375 54.828125 56.984375 36.375 \r\nQ 56.984375 17.96875 50.515625 8.265625 \r\nQ 44.046875 -1.421875 31.78125 -1.421875 \r\nQ 19.53125 -1.421875 13.0625 8.265625 \r\nQ 6.59375 17.96875 6.59375 36.375 \r\nQ 6.59375 54.828125 13.0625 64.515625 \r\nQ 19.53125 74.21875 31.78125 74.21875 \r\nz\r\n\" id=\"DejaVuSans-48\"/>\r\n        <path d=\"M 10.6875 12.40625 \r\nL 21 12.40625 \r\nL 21 0 \r\nL 10.6875 0 \r\nz\r\n\" id=\"DejaVuSans-46\"/>\r\n       </defs>\r\n       <use xlink:href=\"#DejaVuSans-48\"/>\r\n       <use x=\"63.623047\" xlink:href=\"#DejaVuSans-46\"/>\r\n       <use x=\"95.410156\" xlink:href=\"#DejaVuSans-48\"/>\r\n      </g>\r\n     </g>\r\n    </g>\r\n    <g id=\"xtick_2\">\r\n     <g id=\"line2d_2\">\r\n      <g>\r\n       <use style=\"stroke:#000000;stroke-width:0.8;\" x=\"304.428125\" xlink:href=\"#m1e0f97f524\" y=\"224.64\"/>\r\n      </g>\r\n     </g>\r\n     <g id=\"text_2\">\r\n      <!-- 1.0 -->\r\n      <g transform=\"translate(296.476562 239.238438)scale(0.1 -0.1)\">\r\n       <defs>\r\n        <path d=\"M 12.40625 8.296875 \r\nL 28.515625 8.296875 \r\nL 28.515625 63.921875 \r\nL 10.984375 60.40625 \r\nL 10.984375 69.390625 \r\nL 28.421875 72.90625 \r\nL 38.28125 72.90625 \r\nL 38.28125 8.296875 \r\nL 54.390625 8.296875 \r\nL 54.390625 0 \r\nL 12.40625 0 \r\nz\r\n\" id=\"DejaVuSans-49\"/>\r\n       </defs>\r\n       <use xlink:href=\"#DejaVuSans-49\"/>\r\n       <use x=\"63.623047\" xlink:href=\"#DejaVuSans-46\"/>\r\n       <use x=\"95.410156\" xlink:href=\"#DejaVuSans-48\"/>\r\n      </g>\r\n     </g>\r\n    </g>\r\n    <g id=\"text_3\">\r\n     <!-- label -->\r\n     <g transform=\"translate(208.635156 252.916563)scale(0.1 -0.1)\">\r\n      <defs>\r\n       <path d=\"M 9.421875 75.984375 \r\nL 18.40625 75.984375 \r\nL 18.40625 0 \r\nL 9.421875 0 \r\nz\r\n\" id=\"DejaVuSans-108\"/>\r\n       <path d=\"M 34.28125 27.484375 \r\nQ 23.390625 27.484375 19.1875 25 \r\nQ 14.984375 22.515625 14.984375 16.5 \r\nQ 14.984375 11.71875 18.140625 8.90625 \r\nQ 21.296875 6.109375 26.703125 6.109375 \r\nQ 34.1875 6.109375 38.703125 11.40625 \r\nQ 43.21875 16.703125 43.21875 25.484375 \r\nL 43.21875 27.484375 \r\nz\r\nM 52.203125 31.203125 \r\nL 52.203125 0 \r\nL 43.21875 0 \r\nL 43.21875 8.296875 \r\nQ 40.140625 3.328125 35.546875 0.953125 \r\nQ 30.953125 -1.421875 24.3125 -1.421875 \r\nQ 15.921875 -1.421875 10.953125 3.296875 \r\nQ 6 8.015625 6 15.921875 \r\nQ 6 25.140625 12.171875 29.828125 \r\nQ 18.359375 34.515625 30.609375 34.515625 \r\nL 43.21875 34.515625 \r\nL 43.21875 35.40625 \r\nQ 43.21875 41.609375 39.140625 45 \r\nQ 35.0625 48.390625 27.6875 48.390625 \r\nQ 23 48.390625 18.546875 47.265625 \r\nQ 14.109375 46.140625 10.015625 43.890625 \r\nL 10.015625 52.203125 \r\nQ 14.9375 54.109375 19.578125 55.046875 \r\nQ 24.21875 56 28.609375 56 \r\nQ 40.484375 56 46.34375 49.84375 \r\nQ 52.203125 43.703125 52.203125 31.203125 \r\nz\r\n\" id=\"DejaVuSans-97\"/>\r\n       <path d=\"M 48.6875 27.296875 \r\nQ 48.6875 37.203125 44.609375 42.84375 \r\nQ 40.53125 48.484375 33.40625 48.484375 \r\nQ 26.265625 48.484375 22.1875 42.84375 \r\nQ 18.109375 37.203125 18.109375 27.296875 \r\nQ 18.109375 17.390625 22.1875 11.75 \r\nQ 26.265625 6.109375 33.40625 6.109375 \r\nQ 40.53125 6.109375 44.609375 11.75 \r\nQ 48.6875 17.390625 48.6875 27.296875 \r\nz\r\nM 18.109375 46.390625 \r\nQ 20.953125 51.265625 25.265625 53.625 \r\nQ 29.59375 56 35.59375 56 \r\nQ 45.5625 56 51.78125 48.09375 \r\nQ 58.015625 40.1875 58.015625 27.296875 \r\nQ 58.015625 14.40625 51.78125 6.484375 \r\nQ 45.5625 -1.421875 35.59375 -1.421875 \r\nQ 29.59375 -1.421875 25.265625 0.953125 \r\nQ 20.953125 3.328125 18.109375 8.203125 \r\nL 18.109375 0 \r\nL 9.078125 0 \r\nL 9.078125 75.984375 \r\nL 18.109375 75.984375 \r\nz\r\n\" id=\"DejaVuSans-98\"/>\r\n       <path d=\"M 56.203125 29.59375 \r\nL 56.203125 25.203125 \r\nL 14.890625 25.203125 \r\nQ 15.484375 15.921875 20.484375 11.0625 \r\nQ 25.484375 6.203125 34.421875 6.203125 \r\nQ 39.59375 6.203125 44.453125 7.46875 \r\nQ 49.3125 8.734375 54.109375 11.28125 \r\nL 54.109375 2.78125 \r\nQ 49.265625 0.734375 44.1875 -0.34375 \r\nQ 39.109375 -1.421875 33.890625 -1.421875 \r\nQ 20.796875 -1.421875 13.15625 6.1875 \r\nQ 5.515625 13.8125 5.515625 26.8125 \r\nQ 5.515625 40.234375 12.765625 48.109375 \r\nQ 20.015625 56 32.328125 56 \r\nQ 43.359375 56 49.78125 48.890625 \r\nQ 56.203125 41.796875 56.203125 29.59375 \r\nz\r\nM 47.21875 32.234375 \r\nQ 47.125 39.59375 43.09375 43.984375 \r\nQ 39.0625 48.390625 32.421875 48.390625 \r\nQ 24.90625 48.390625 20.390625 44.140625 \r\nQ 15.875 39.890625 15.1875 32.171875 \r\nz\r\n\" id=\"DejaVuSans-101\"/>\r\n      </defs>\r\n      <use xlink:href=\"#DejaVuSans-108\"/>\r\n      <use x=\"27.783203\" xlink:href=\"#DejaVuSans-97\"/>\r\n      <use x=\"89.0625\" xlink:href=\"#DejaVuSans-98\"/>\r\n      <use x=\"152.539062\" xlink:href=\"#DejaVuSans-101\"/>\r\n      <use x=\"214.0625\" xlink:href=\"#DejaVuSans-108\"/>\r\n     </g>\r\n    </g>\r\n   </g>\r\n   <g id=\"matplotlib.axis_2\">\r\n    <g id=\"ytick_1\">\r\n     <g id=\"line2d_3\">\r\n      <defs>\r\n       <path d=\"M 0 0 \r\nL -3.5 0 \r\n\" id=\"ma9a10d5e02\" style=\"stroke:#000000;stroke-width:0.8;\"/>\r\n      </defs>\r\n      <g>\r\n       <use style=\"stroke:#000000;stroke-width:0.8;\" x=\"53.328125\" xlink:href=\"#ma9a10d5e02\" y=\"224.64\"/>\r\n      </g>\r\n     </g>\r\n     <g id=\"text_4\">\r\n      <!-- 0 -->\r\n      <g transform=\"translate(39.965625 228.439219)scale(0.1 -0.1)\">\r\n       <use xlink:href=\"#DejaVuSans-48\"/>\r\n      </g>\r\n     </g>\r\n    </g>\r\n    <g id=\"ytick_2\">\r\n     <g id=\"line2d_4\">\r\n      <g>\r\n       <use style=\"stroke:#000000;stroke-width:0.8;\" x=\"53.328125\" xlink:href=\"#ma9a10d5e02\" y=\"182.762201\"/>\r\n      </g>\r\n     </g>\r\n     <g id=\"text_5\">\r\n      <!-- 200 -->\r\n      <g transform=\"translate(27.240625 186.56142)scale(0.1 -0.1)\">\r\n       <defs>\r\n        <path d=\"M 19.1875 8.296875 \r\nL 53.609375 8.296875 \r\nL 53.609375 0 \r\nL 7.328125 0 \r\nL 7.328125 8.296875 \r\nQ 12.9375 14.109375 22.625 23.890625 \r\nQ 32.328125 33.6875 34.8125 36.53125 \r\nQ 39.546875 41.84375 41.421875 45.53125 \r\nQ 43.3125 49.21875 43.3125 52.78125 \r\nQ 43.3125 58.59375 39.234375 62.25 \r\nQ 35.15625 65.921875 28.609375 65.921875 \r\nQ 23.96875 65.921875 18.8125 64.3125 \r\nQ 13.671875 62.703125 7.8125 59.421875 \r\nL 7.8125 69.390625 \r\nQ 13.765625 71.78125 18.9375 73 \r\nQ 24.125 74.21875 28.421875 74.21875 \r\nQ 39.75 74.21875 46.484375 68.546875 \r\nQ 53.21875 62.890625 53.21875 53.421875 \r\nQ 53.21875 48.921875 51.53125 44.890625 \r\nQ 49.859375 40.875 45.40625 35.40625 \r\nQ 44.1875 33.984375 37.640625 27.21875 \r\nQ 31.109375 20.453125 19.1875 8.296875 \r\nz\r\n\" id=\"DejaVuSans-50\"/>\r\n       </defs>\r\n       <use xlink:href=\"#DejaVuSans-50\"/>\r\n       <use x=\"63.623047\" xlink:href=\"#DejaVuSans-48\"/>\r\n       <use x=\"127.246094\" xlink:href=\"#DejaVuSans-48\"/>\r\n      </g>\r\n     </g>\r\n    </g>\r\n    <g id=\"ytick_3\">\r\n     <g id=\"line2d_5\">\r\n      <g>\r\n       <use style=\"stroke:#000000;stroke-width:0.8;\" x=\"53.328125\" xlink:href=\"#ma9a10d5e02\" y=\"140.884403\"/>\r\n      </g>\r\n     </g>\r\n     <g id=\"text_6\">\r\n      <!-- 400 -->\r\n      <g transform=\"translate(27.240625 144.683621)scale(0.1 -0.1)\">\r\n       <defs>\r\n        <path d=\"M 37.796875 64.3125 \r\nL 12.890625 25.390625 \r\nL 37.796875 25.390625 \r\nz\r\nM 35.203125 72.90625 \r\nL 47.609375 72.90625 \r\nL 47.609375 25.390625 \r\nL 58.015625 25.390625 \r\nL 58.015625 17.1875 \r\nL 47.609375 17.1875 \r\nL 47.609375 0 \r\nL 37.796875 0 \r\nL 37.796875 17.1875 \r\nL 4.890625 17.1875 \r\nL 4.890625 26.703125 \r\nz\r\n\" id=\"DejaVuSans-52\"/>\r\n       </defs>\r\n       <use xlink:href=\"#DejaVuSans-52\"/>\r\n       <use x=\"63.623047\" xlink:href=\"#DejaVuSans-48\"/>\r\n       <use x=\"127.246094\" xlink:href=\"#DejaVuSans-48\"/>\r\n      </g>\r\n     </g>\r\n    </g>\r\n    <g id=\"ytick_4\">\r\n     <g id=\"line2d_6\">\r\n      <g>\r\n       <use style=\"stroke:#000000;stroke-width:0.8;\" x=\"53.328125\" xlink:href=\"#ma9a10d5e02\" y=\"99.006604\"/>\r\n      </g>\r\n     </g>\r\n     <g id=\"text_7\">\r\n      <!-- 600 -->\r\n      <g transform=\"translate(27.240625 102.805823)scale(0.1 -0.1)\">\r\n       <defs>\r\n        <path d=\"M 33.015625 40.375 \r\nQ 26.375 40.375 22.484375 35.828125 \r\nQ 18.609375 31.296875 18.609375 23.390625 \r\nQ 18.609375 15.53125 22.484375 10.953125 \r\nQ 26.375 6.390625 33.015625 6.390625 \r\nQ 39.65625 6.390625 43.53125 10.953125 \r\nQ 47.40625 15.53125 47.40625 23.390625 \r\nQ 47.40625 31.296875 43.53125 35.828125 \r\nQ 39.65625 40.375 33.015625 40.375 \r\nz\r\nM 52.59375 71.296875 \r\nL 52.59375 62.3125 \r\nQ 48.875 64.0625 45.09375 64.984375 \r\nQ 41.3125 65.921875 37.59375 65.921875 \r\nQ 27.828125 65.921875 22.671875 59.328125 \r\nQ 17.53125 52.734375 16.796875 39.40625 \r\nQ 19.671875 43.65625 24.015625 45.921875 \r\nQ 28.375 48.1875 33.59375 48.1875 \r\nQ 44.578125 48.1875 50.953125 41.515625 \r\nQ 57.328125 34.859375 57.328125 23.390625 \r\nQ 57.328125 12.15625 50.6875 5.359375 \r\nQ 44.046875 -1.421875 33.015625 -1.421875 \r\nQ 20.359375 -1.421875 13.671875 8.265625 \r\nQ 6.984375 17.96875 6.984375 36.375 \r\nQ 6.984375 53.65625 15.1875 63.9375 \r\nQ 23.390625 74.21875 37.203125 74.21875 \r\nQ 40.921875 74.21875 44.703125 73.484375 \r\nQ 48.484375 72.75 52.59375 71.296875 \r\nz\r\n\" id=\"DejaVuSans-54\"/>\r\n       </defs>\r\n       <use xlink:href=\"#DejaVuSans-54\"/>\r\n       <use x=\"63.623047\" xlink:href=\"#DejaVuSans-48\"/>\r\n       <use x=\"127.246094\" xlink:href=\"#DejaVuSans-48\"/>\r\n      </g>\r\n     </g>\r\n    </g>\r\n    <g id=\"ytick_5\">\r\n     <g id=\"line2d_7\">\r\n      <g>\r\n       <use style=\"stroke:#000000;stroke-width:0.8;\" x=\"53.328125\" xlink:href=\"#ma9a10d5e02\" y=\"57.128805\"/>\r\n      </g>\r\n     </g>\r\n     <g id=\"text_8\">\r\n      <!-- 800 -->\r\n      <g transform=\"translate(27.240625 60.928024)scale(0.1 -0.1)\">\r\n       <defs>\r\n        <path d=\"M 31.78125 34.625 \r\nQ 24.75 34.625 20.71875 30.859375 \r\nQ 16.703125 27.09375 16.703125 20.515625 \r\nQ 16.703125 13.921875 20.71875 10.15625 \r\nQ 24.75 6.390625 31.78125 6.390625 \r\nQ 38.8125 6.390625 42.859375 10.171875 \r\nQ 46.921875 13.96875 46.921875 20.515625 \r\nQ 46.921875 27.09375 42.890625 30.859375 \r\nQ 38.875 34.625 31.78125 34.625 \r\nz\r\nM 21.921875 38.8125 \r\nQ 15.578125 40.375 12.03125 44.71875 \r\nQ 8.5 49.078125 8.5 55.328125 \r\nQ 8.5 64.0625 14.71875 69.140625 \r\nQ 20.953125 74.21875 31.78125 74.21875 \r\nQ 42.671875 74.21875 48.875 69.140625 \r\nQ 55.078125 64.0625 55.078125 55.328125 \r\nQ 55.078125 49.078125 51.53125 44.71875 \r\nQ 48 40.375 41.703125 38.8125 \r\nQ 48.828125 37.15625 52.796875 32.3125 \r\nQ 56.78125 27.484375 56.78125 20.515625 \r\nQ 56.78125 9.90625 50.3125 4.234375 \r\nQ 43.84375 -1.421875 31.78125 -1.421875 \r\nQ 19.734375 -1.421875 13.25 4.234375 \r\nQ 6.78125 9.90625 6.78125 20.515625 \r\nQ 6.78125 27.484375 10.78125 32.3125 \r\nQ 14.796875 37.15625 21.921875 38.8125 \r\nz\r\nM 18.3125 54.390625 \r\nQ 18.3125 48.734375 21.84375 45.5625 \r\nQ 25.390625 42.390625 31.78125 42.390625 \r\nQ 38.140625 42.390625 41.71875 45.5625 \r\nQ 45.3125 48.734375 45.3125 54.390625 \r\nQ 45.3125 60.0625 41.71875 63.234375 \r\nQ 38.140625 66.40625 31.78125 66.40625 \r\nQ 25.390625 66.40625 21.84375 63.234375 \r\nQ 18.3125 60.0625 18.3125 54.390625 \r\nz\r\n\" id=\"DejaVuSans-56\"/>\r\n       </defs>\r\n       <use xlink:href=\"#DejaVuSans-56\"/>\r\n       <use x=\"63.623047\" xlink:href=\"#DejaVuSans-48\"/>\r\n       <use x=\"127.246094\" xlink:href=\"#DejaVuSans-48\"/>\r\n      </g>\r\n     </g>\r\n    </g>\r\n    <g id=\"ytick_6\">\r\n     <g id=\"line2d_8\">\r\n      <g>\r\n       <use style=\"stroke:#000000;stroke-width:0.8;\" x=\"53.328125\" xlink:href=\"#ma9a10d5e02\" y=\"15.251007\"/>\r\n      </g>\r\n     </g>\r\n     <g id=\"text_9\">\r\n      <!-- 1000 -->\r\n      <g transform=\"translate(20.878125 19.050226)scale(0.1 -0.1)\">\r\n       <use xlink:href=\"#DejaVuSans-49\"/>\r\n       <use x=\"63.623047\" xlink:href=\"#DejaVuSans-48\"/>\r\n       <use x=\"127.246094\" xlink:href=\"#DejaVuSans-48\"/>\r\n       <use x=\"190.869141\" xlink:href=\"#DejaVuSans-48\"/>\r\n      </g>\r\n     </g>\r\n    </g>\r\n    <g id=\"text_10\">\r\n     <!-- count -->\r\n     <g transform=\"translate(14.798438 130.02625)rotate(-90)scale(0.1 -0.1)\">\r\n      <defs>\r\n       <path d=\"M 48.78125 52.59375 \r\nL 48.78125 44.1875 \r\nQ 44.96875 46.296875 41.140625 47.34375 \r\nQ 37.3125 48.390625 33.40625 48.390625 \r\nQ 24.65625 48.390625 19.8125 42.84375 \r\nQ 14.984375 37.3125 14.984375 27.296875 \r\nQ 14.984375 17.28125 19.8125 11.734375 \r\nQ 24.65625 6.203125 33.40625 6.203125 \r\nQ 37.3125 6.203125 41.140625 7.25 \r\nQ 44.96875 8.296875 48.78125 10.40625 \r\nL 48.78125 2.09375 \r\nQ 45.015625 0.34375 40.984375 -0.53125 \r\nQ 36.96875 -1.421875 32.421875 -1.421875 \r\nQ 20.0625 -1.421875 12.78125 6.34375 \r\nQ 5.515625 14.109375 5.515625 27.296875 \r\nQ 5.515625 40.671875 12.859375 48.328125 \r\nQ 20.21875 56 33.015625 56 \r\nQ 37.15625 56 41.109375 55.140625 \r\nQ 45.0625 54.296875 48.78125 52.59375 \r\nz\r\n\" id=\"DejaVuSans-99\"/>\r\n       <path d=\"M 30.609375 48.390625 \r\nQ 23.390625 48.390625 19.1875 42.75 \r\nQ 14.984375 37.109375 14.984375 27.296875 \r\nQ 14.984375 17.484375 19.15625 11.84375 \r\nQ 23.34375 6.203125 30.609375 6.203125 \r\nQ 37.796875 6.203125 41.984375 11.859375 \r\nQ 46.1875 17.53125 46.1875 27.296875 \r\nQ 46.1875 37.015625 41.984375 42.703125 \r\nQ 37.796875 48.390625 30.609375 48.390625 \r\nz\r\nM 30.609375 56 \r\nQ 42.328125 56 49.015625 48.375 \r\nQ 55.71875 40.765625 55.71875 27.296875 \r\nQ 55.71875 13.875 49.015625 6.21875 \r\nQ 42.328125 -1.421875 30.609375 -1.421875 \r\nQ 18.84375 -1.421875 12.171875 6.21875 \r\nQ 5.515625 13.875 5.515625 27.296875 \r\nQ 5.515625 40.765625 12.171875 48.375 \r\nQ 18.84375 56 30.609375 56 \r\nz\r\n\" id=\"DejaVuSans-111\"/>\r\n       <path d=\"M 8.5 21.578125 \r\nL 8.5 54.6875 \r\nL 17.484375 54.6875 \r\nL 17.484375 21.921875 \r\nQ 17.484375 14.15625 20.5 10.265625 \r\nQ 23.53125 6.390625 29.59375 6.390625 \r\nQ 36.859375 6.390625 41.078125 11.03125 \r\nQ 45.3125 15.671875 45.3125 23.6875 \r\nL 45.3125 54.6875 \r\nL 54.296875 54.6875 \r\nL 54.296875 0 \r\nL 45.3125 0 \r\nL 45.3125 8.40625 \r\nQ 42.046875 3.421875 37.71875 1 \r\nQ 33.40625 -1.421875 27.6875 -1.421875 \r\nQ 18.265625 -1.421875 13.375 4.4375 \r\nQ 8.5 10.296875 8.5 21.578125 \r\nz\r\nM 31.109375 56 \r\nz\r\n\" id=\"DejaVuSans-117\"/>\r\n       <path d=\"M 54.890625 33.015625 \r\nL 54.890625 0 \r\nL 45.90625 0 \r\nL 45.90625 32.71875 \r\nQ 45.90625 40.484375 42.875 44.328125 \r\nQ 39.84375 48.1875 33.796875 48.1875 \r\nQ 26.515625 48.1875 22.3125 43.546875 \r\nQ 18.109375 38.921875 18.109375 30.90625 \r\nL 18.109375 0 \r\nL 9.078125 0 \r\nL 9.078125 54.6875 \r\nL 18.109375 54.6875 \r\nL 18.109375 46.1875 \r\nQ 21.34375 51.125 25.703125 53.5625 \r\nQ 30.078125 56 35.796875 56 \r\nQ 45.21875 56 50.046875 50.171875 \r\nQ 54.890625 44.34375 54.890625 33.015625 \r\nz\r\n\" id=\"DejaVuSans-110\"/>\r\n       <path d=\"M 18.3125 70.21875 \r\nL 18.3125 54.6875 \r\nL 36.8125 54.6875 \r\nL 36.8125 47.703125 \r\nL 18.3125 47.703125 \r\nL 18.3125 18.015625 \r\nQ 18.3125 11.328125 20.140625 9.421875 \r\nQ 21.96875 7.515625 27.59375 7.515625 \r\nL 36.8125 7.515625 \r\nL 36.8125 0 \r\nL 27.59375 0 \r\nQ 17.1875 0 13.234375 3.875 \r\nQ 9.28125 7.765625 9.28125 18.015625 \r\nL 9.28125 47.703125 \r\nL 2.6875 47.703125 \r\nL 2.6875 54.6875 \r\nL 9.28125 54.6875 \r\nL 9.28125 70.21875 \r\nz\r\n\" id=\"DejaVuSans-116\"/>\r\n      </defs>\r\n      <use xlink:href=\"#DejaVuSans-99\"/>\r\n      <use x=\"54.980469\" xlink:href=\"#DejaVuSans-111\"/>\r\n      <use x=\"116.162109\" xlink:href=\"#DejaVuSans-117\"/>\r\n      <use x=\"179.541016\" xlink:href=\"#DejaVuSans-110\"/>\r\n      <use x=\"242.919922\" xlink:href=\"#DejaVuSans-116\"/>\r\n     </g>\r\n    </g>\r\n   </g>\r\n   <g id=\"patch_5\">\r\n    <path d=\"M 53.328125 224.64 \r\nL 53.328125 7.2 \r\n\" style=\"fill:none;stroke:#000000;stroke-linecap:square;stroke-linejoin:miter;stroke-width:0.8;\"/>\r\n   </g>\r\n   <g id=\"patch_6\">\r\n    <path d=\"M 388.128125 224.64 \r\nL 388.128125 7.2 \r\n\" style=\"fill:none;stroke:#000000;stroke-linecap:square;stroke-linejoin:miter;stroke-width:0.8;\"/>\r\n   </g>\r\n   <g id=\"patch_7\">\r\n    <path d=\"M 53.328125 224.64 \r\nL 388.128125 224.64 \r\n\" style=\"fill:none;stroke:#000000;stroke-linecap:square;stroke-linejoin:miter;stroke-width:0.8;\"/>\r\n   </g>\r\n   <g id=\"patch_8\">\r\n    <path d=\"M 53.328125 7.2 \r\nL 388.128125 7.2 \r\n\" style=\"fill:none;stroke:#000000;stroke-linecap:square;stroke-linejoin:miter;stroke-width:0.8;\"/>\r\n   </g>\r\n  </g>\r\n </g>\r\n <defs>\r\n  <clipPath id=\"p01038ed2de\">\r\n   <rect height=\"217.44\" width=\"334.8\" x=\"53.328125\" y=\"7.2\"/>\r\n  </clipPath>\r\n </defs>\r\n</svg>\r\n",
      "image/png": "[encoded data removed]"
     },
     "metadata": {
      "needs_background": "light"
     }
    }
   ],
   "source": [
    "sns.countplot(x=\"label\", data=data_spanish_french_)"
   ]
  },
  {
   "cell_type": "code",
   "execution_count": 424,
   "metadata": {},
   "outputs": [],
   "source": [
    "compile_1 = []"
   ]
  },
  {
   "cell_type": "code",
   "execution_count": 425,
   "metadata": {},
   "outputs": [],
   "source": [
    "compile_2 = []"
   ]
  },
  {
   "cell_type": "code",
   "execution_count": 334,
   "metadata": {},
   "outputs": [],
   "source": [
    "ps = PorterStemmer()"
   ]
  },
  {
   "cell_type": "code",
   "execution_count": 426,
   "metadata": {},
   "outputs": [],
   "source": [
    "for i in range(989):\n",
    "\n",
    "    x = re.sub(\"[^a-zA-Z]\", \" \", str(data_spanish_french_.iloc[:989, 0][i]))\n",
    "    x = x.lower().split()\n",
    "    x = [ps.stem(word=word_) for word_ in x if word_ is not set(stopwords.words(\"french\"))]\n",
    "    x = \" \".join(x)\n",
    "    compile_1.append(x)"
   ]
  },
  {
   "cell_type": "code",
   "execution_count": 431,
   "metadata": {},
   "outputs": [],
   "source": [
    "for i in range(989, 1839):\n",
    "\n",
    "    x = re.sub(\"[^a-zA-Z]\", \" \", str(data_spanish_french_.iloc[989:, 0][i]))\n",
    "    x = x.lower().split()\n",
    "    x = [ps.stem(word=word_) for word_ in x if word_ is not set(stopwords.words(\"spanish\"))]\n",
    "    x = \" \".join(x)\n",
    "    compile_2.append(x)"
   ]
  },
  {
   "cell_type": "code",
   "execution_count": 435,
   "metadata": {},
   "outputs": [],
   "source": [
    "compile_ = compile_1 + compile_2"
   ]
  },
  {
   "cell_type": "code",
   "execution_count": 436,
   "metadata": {},
   "outputs": [],
   "source": [
    "from sklearn.feature_extraction.text import CountVectorizer"
   ]
  },
  {
   "cell_type": "code",
   "execution_count": 437,
   "metadata": {},
   "outputs": [],
   "source": [
    "cv = CountVectorizer()"
   ]
  },
  {
   "cell_type": "code",
   "execution_count": 443,
   "metadata": {},
   "outputs": [],
   "source": [
    "x = cv.fit_transform(compile_).toarray()\n",
    "y = data_spanish_french_.iloc[:, -1].values"
   ]
  },
  {
   "cell_type": "code",
   "execution_count": 444,
   "metadata": {},
   "outputs": [
    {
     "output_type": "execute_result",
     "data": {
      "text/plain": [
       "array([[0, 0, 0, ..., 0, 0, 0],\n",
       "       [0, 0, 0, ..., 0, 0, 0],\n",
       "       [0, 0, 0, ..., 0, 0, 0],\n",
       "       ...,\n",
       "       [0, 0, 0, ..., 0, 0, 0],\n",
       "       [0, 0, 0, ..., 0, 0, 0],\n",
       "       [0, 0, 0, ..., 0, 0, 0]], dtype=int64)"
      ]
     },
     "metadata": {},
     "execution_count": 444
    }
   ],
   "source": [
    "x"
   ]
  },
  {
   "cell_type": "code",
   "execution_count": 445,
   "metadata": {},
   "outputs": [
    {
     "output_type": "execute_result",
     "data": {
      "text/plain": [
       "array([1.0, 1.0, 1.0, ..., 0.0, 0.0, 0.0], dtype=object)"
      ]
     },
     "metadata": {},
     "execution_count": 445
    }
   ],
   "source": [
    "y"
   ]
  },
  {
   "cell_type": "code",
   "execution_count": 455,
   "metadata": {},
   "outputs": [],
   "source": [
    "y = np.array(y).astype(int)"
   ]
  },
  {
   "cell_type": "code",
   "execution_count": 456,
   "metadata": {},
   "outputs": [],
   "source": [
    "from sklearn.model_selection import train_test_split"
   ]
  },
  {
   "cell_type": "code",
   "execution_count": 457,
   "metadata": {},
   "outputs": [],
   "source": [
    "x_train, x_test, y_train, y_test = train_test_split(x, y, test_size = 1/3, random_state = 0)"
   ]
  },
  {
   "cell_type": "code",
   "execution_count": 458,
   "metadata": {},
   "outputs": [],
   "source": [
    "from sklearn.preprocessing import StandardScaler"
   ]
  },
  {
   "cell_type": "code",
   "execution_count": 459,
   "metadata": {},
   "outputs": [],
   "source": [
    "sc = StandardScaler()"
   ]
  },
  {
   "cell_type": "code",
   "execution_count": 460,
   "metadata": {},
   "outputs": [],
   "source": [
    "x_train_sc = sc.fit_transform(x_train)\n",
    "x_test_sc = sc.fit_transform(x_test)"
   ]
  },
  {
   "cell_type": "code",
   "execution_count": 461,
   "metadata": {},
   "outputs": [],
   "source": [
    "from sklearn.linear_model import LogisticRegression"
   ]
  },
  {
   "cell_type": "code",
   "execution_count": 462,
   "metadata": {},
   "outputs": [],
   "source": [
    "lg = LogisticRegression()"
   ]
  },
  {
   "cell_type": "code",
   "execution_count": 464,
   "metadata": {},
   "outputs": [
    {
     "output_type": "execute_result",
     "data": {
      "text/plain": [
       "LogisticRegression()"
      ]
     },
     "metadata": {},
     "execution_count": 464
    }
   ],
   "source": [
    "lg.fit(x_train_sc, y_train)"
   ]
  },
  {
   "cell_type": "code",
   "execution_count": 465,
   "metadata": {},
   "outputs": [],
   "source": [
    "y_pred = lg.predict(x_test_sc)"
   ]
  },
  {
   "cell_type": "code",
   "execution_count": 466,
   "metadata": {},
   "outputs": [],
   "source": [
    "y_pred_ = pd.DataFrame(data = y_pred, columns=[\"Predict Y\"])"
   ]
  },
  {
   "cell_type": "code",
   "execution_count": 467,
   "metadata": {},
   "outputs": [],
   "source": [
    "y_test_ = pd.DataFrame(data = y_test, columns=[\"Real Y\"])"
   ]
  },
  {
   "cell_type": "code",
   "execution_count": 468,
   "metadata": {},
   "outputs": [],
   "source": [
    "q = pd.concat([y_test_, y_pred_], axis = 1)"
   ]
  },
  {
   "cell_type": "code",
   "execution_count": 469,
   "metadata": {},
   "outputs": [
    {
     "output_type": "execute_result",
     "data": {
      "text/plain": [
       "     Real Y  Predict Y\n",
       "0         1          1\n",
       "1         1          1\n",
       "2         0          0\n",
       "3         1          1\n",
       "4         0          0\n",
       "..      ...        ...\n",
       "608       1          1\n",
       "609       1          1\n",
       "610       0          0\n",
       "611       1          1\n",
       "612       0          0\n",
       "\n",
       "[613 rows x 2 columns]"
      ],
      "text/html": "<div>\n<style scoped>\n    .dataframe tbody tr th:only-of-type {\n        vertical-align: middle;\n    }\n\n    .dataframe tbody tr th {\n        vertical-align: top;\n    }\n\n    .dataframe thead th {\n        text-align: right;\n    }\n</style>\n<table border=\"1\" class=\"dataframe\">\n  <thead>\n    <tr style=\"text-align: right;\">\n      <th></th>\n      <th>Real Y</th>\n      <th>Predict Y</th>\n    </tr>\n  </thead>\n  <tbody>\n    <tr>\n      <th>0</th>\n      <td>1</td>\n      <td>1</td>\n    </tr>\n    <tr>\n      <th>1</th>\n      <td>1</td>\n      <td>1</td>\n    </tr>\n    <tr>\n      <th>2</th>\n      <td>0</td>\n      <td>0</td>\n    </tr>\n    <tr>\n      <th>3</th>\n      <td>1</td>\n      <td>1</td>\n    </tr>\n    <tr>\n      <th>4</th>\n      <td>0</td>\n      <td>0</td>\n    </tr>\n    <tr>\n      <th>...</th>\n      <td>...</td>\n      <td>...</td>\n    </tr>\n    <tr>\n      <th>608</th>\n      <td>1</td>\n      <td>1</td>\n    </tr>\n    <tr>\n      <th>609</th>\n      <td>1</td>\n      <td>1</td>\n    </tr>\n    <tr>\n      <th>610</th>\n      <td>0</td>\n      <td>0</td>\n    </tr>\n    <tr>\n      <th>611</th>\n      <td>1</td>\n      <td>1</td>\n    </tr>\n    <tr>\n      <th>612</th>\n      <td>0</td>\n      <td>0</td>\n    </tr>\n  </tbody>\n</table>\n<p>613 rows × 2 columns</p>\n</div>"
     },
     "metadata": {},
     "execution_count": 469
    }
   ],
   "source": [
    "q"
   ]
  },
  {
   "cell_type": "code",
   "execution_count": 470,
   "metadata": {},
   "outputs": [],
   "source": [
    "from sklearn.metrics import confusion_matrix, accuracy_score"
   ]
  },
  {
   "cell_type": "code",
   "execution_count": 471,
   "metadata": {},
   "outputs": [],
   "source": [
    "cm = confusion_matrix(y_true=y_test, y_pred=y_pred)"
   ]
  },
  {
   "cell_type": "code",
   "execution_count": 472,
   "metadata": {},
   "outputs": [
    {
     "output_type": "execute_result",
     "data": {
      "text/plain": [
       "array([[273,   0],\n",
       "       [  1, 339]], dtype=int64)"
      ]
     },
     "metadata": {},
     "execution_count": 472
    }
   ],
   "source": [
    "cm"
   ]
  },
  {
   "cell_type": "code",
   "execution_count": 474,
   "metadata": {},
   "outputs": [],
   "source": [
    "ac = accuracy_score(y_true=y_test, y_pred=y_pred)"
   ]
  },
  {
   "cell_type": "code",
   "execution_count": 475,
   "metadata": {},
   "outputs": [
    {
     "output_type": "execute_result",
     "data": {
      "text/plain": [
       "0.99836867862969"
      ]
     },
     "metadata": {},
     "execution_count": 475
    }
   ],
   "source": [
    "ac"
   ]
  },
  {
   "cell_type": "code",
   "execution_count": 476,
   "metadata": {},
   "outputs": [],
   "source": [
    "from xgboost import XGBClassifier"
   ]
  },
  {
   "cell_type": "code",
   "execution_count": 477,
   "metadata": {},
   "outputs": [],
   "source": [
    "xgb = XGBClassifier()"
   ]
  },
  {
   "cell_type": "code",
   "execution_count": 478,
   "metadata": {},
   "outputs": [
    {
     "output_type": "stream",
     "name": "stderr",
     "text": [
      "C:\\Users\\90545\\AppData\\Local\\Programs\\Python\\Python38\\lib\\site-packages\\xgboost\\sklearn.py:888: UserWarning: The use of label encoder in XGBClassifier is deprecated and will be removed in a future release. To remove this warning, do the following: 1) Pass option use_label_encoder=False when constructing XGBClassifier object; and 2) Encode your labels (y) as integers starting with 0, i.e. 0, 1, 2, ..., [num_class - 1].\n",
      "  warnings.warn(label_encoder_deprecation_msg, UserWarning)\n",
      "[15:04:40] WARNING: C:/Users/Administrator/workspace/xgboost-win64_release_1.3.0/src/learner.cc:1061: Starting in XGBoost 1.3.0, the default evaluation metric used with the objective 'binary:logistic' was changed from 'error' to 'logloss'. Explicitly set eval_metric if you'd like to restore the old behavior.\n"
     ]
    },
    {
     "output_type": "execute_result",
     "data": {
      "text/plain": [
       "XGBClassifier(base_score=0.5, booster='gbtree', colsample_bylevel=1,\n",
       "              colsample_bynode=1, colsample_bytree=1, gamma=0, gpu_id=-1,\n",
       "              importance_type='gain', interaction_constraints='',\n",
       "              learning_rate=0.300000012, max_delta_step=0, max_depth=6,\n",
       "              min_child_weight=1, missing=nan, monotone_constraints='()',\n",
       "              n_estimators=100, n_jobs=2, num_parallel_tree=1, random_state=0,\n",
       "              reg_alpha=0, reg_lambda=1, scale_pos_weight=1, subsample=1,\n",
       "              tree_method='exact', validate_parameters=1, verbosity=None)"
      ]
     },
     "metadata": {},
     "execution_count": 478
    }
   ],
   "source": [
    "xgb.fit(x_train_sc, y_train)"
   ]
  },
  {
   "cell_type": "code",
   "execution_count": 479,
   "metadata": {},
   "outputs": [],
   "source": [
    "y_pred = xgb.predict(x_test_sc)"
   ]
  },
  {
   "cell_type": "code",
   "execution_count": 481,
   "metadata": {},
   "outputs": [],
   "source": [
    "from sklearn.metrics import confusion_matrix, accuracy_score"
   ]
  },
  {
   "cell_type": "code",
   "execution_count": 482,
   "metadata": {},
   "outputs": [],
   "source": [
    "cm = confusion_matrix(y_true = y_test, y_pred = y_pred )"
   ]
  },
  {
   "cell_type": "code",
   "execution_count": 483,
   "metadata": {},
   "outputs": [
    {
     "output_type": "execute_result",
     "data": {
      "text/plain": [
       "array([[272,   1],\n",
       "       [ 14, 326]], dtype=int64)"
      ]
     },
     "metadata": {},
     "execution_count": 483
    }
   ],
   "source": [
    "cm"
   ]
  },
  {
   "cell_type": "code",
   "execution_count": 484,
   "metadata": {},
   "outputs": [],
   "source": [
    "ac = accuracy_score(y_true=y_test, y_pred=y_pred)"
   ]
  },
  {
   "cell_type": "code",
   "execution_count": 485,
   "metadata": {},
   "outputs": [
    {
     "output_type": "execute_result",
     "data": {
      "text/plain": [
       "0.9755301794453507"
      ]
     },
     "metadata": {},
     "execution_count": 485
    }
   ],
   "source": [
    "ac"
   ]
  },
  {
   "source": [
    "--------------"
   ],
   "cell_type": "markdown",
   "metadata": {}
  },
  {
   "cell_type": "code",
   "execution_count": 486,
   "metadata": {},
   "outputs": [
    {
     "output_type": "execute_result",
     "data": {
      "text/plain": [
       "                                                 premise  \\\n",
       "15     Kabul edilemez ifadelere bir alternatif olarak...   \n",
       "40     1 İnsanlar dikiş makinelerinde, kumaş hizalama...   \n",
       "44     19. yüzyılın sonunda, terim hakkında çok tartı...   \n",
       "46     (Dba) bir hayır kurumu, tamamen gönüllü, kar a...   \n",
       "47     Bu işlemi tamamladıktan sonra dua kitabı okuna...   \n",
       "...                                                  ...   \n",
       "11905  Demokratikleşme, uluslararası coğrafyanın altı...   \n",
       "11925                  . Aşağı ve yukarı hareket ediyor.   \n",
       "11928  [Bu ulus] özgürlük içinde tasarlandı ve tüm in...   \n",
       "11937  \"Bunu yapsaydı bunun bir fark yaratacağını san...   \n",
       "11944  Toplam sistemin enerjisi, dipol ters oryantasy...   \n",
       "\n",
       "                                              hypothesis lang_abv  \n",
       "15                           Kalp kırıklığından kaçının.       tr  \n",
       "40     Makinelerin tamamen insanların yerini alması u...       tr  \n",
       "44     Kelime, 19. yüzyılın sonlarında terk edildi ve...       tr  \n",
       "46                       Her gün çalışan 20 gönüllü var.       tr  \n",
       "47                      Dua ederken başka şeyler olacak.       tr  \n",
       "...                                                  ...      ...  \n",
       "11905  Demokrasinin, uluslararası coğrafyanın gerçekl...       tr  \n",
       "11925                           Yukarı ve aşağı yürümek.       tr  \n",
       "11928  Bu teklife ilişkin notlar birkaç ek belgeye ka...       tr  \n",
       "11937  Ustası, her iki seçimin de önemli bir etkisi o...       tr  \n",
       "11944  İki kutupluların yönlerini değiştirmeleri mümk...       tr  \n",
       "\n",
       "[861 rows x 3 columns]"
      ],
      "text/html": "<div>\n<style scoped>\n    .dataframe tbody tr th:only-of-type {\n        vertical-align: middle;\n    }\n\n    .dataframe tbody tr th {\n        vertical-align: top;\n    }\n\n    .dataframe thead th {\n        text-align: right;\n    }\n</style>\n<table border=\"1\" class=\"dataframe\">\n  <thead>\n    <tr style=\"text-align: right;\">\n      <th></th>\n      <th>premise</th>\n      <th>hypothesis</th>\n      <th>lang_abv</th>\n    </tr>\n  </thead>\n  <tbody>\n    <tr>\n      <th>15</th>\n      <td>Kabul edilemez ifadelere bir alternatif olarak...</td>\n      <td>Kalp kırıklığından kaçının.</td>\n      <td>tr</td>\n    </tr>\n    <tr>\n      <th>40</th>\n      <td>1 İnsanlar dikiş makinelerinde, kumaş hizalama...</td>\n      <td>Makinelerin tamamen insanların yerini alması u...</td>\n      <td>tr</td>\n    </tr>\n    <tr>\n      <th>44</th>\n      <td>19. yüzyılın sonunda, terim hakkında çok tartı...</td>\n      <td>Kelime, 19. yüzyılın sonlarında terk edildi ve...</td>\n      <td>tr</td>\n    </tr>\n    <tr>\n      <th>46</th>\n      <td>(Dba) bir hayır kurumu, tamamen gönüllü, kar a...</td>\n      <td>Her gün çalışan 20 gönüllü var.</td>\n      <td>tr</td>\n    </tr>\n    <tr>\n      <th>47</th>\n      <td>Bu işlemi tamamladıktan sonra dua kitabı okuna...</td>\n      <td>Dua ederken başka şeyler olacak.</td>\n      <td>tr</td>\n    </tr>\n    <tr>\n      <th>...</th>\n      <td>...</td>\n      <td>...</td>\n      <td>...</td>\n    </tr>\n    <tr>\n      <th>11905</th>\n      <td>Demokratikleşme, uluslararası coğrafyanın altı...</td>\n      <td>Demokrasinin, uluslararası coğrafyanın gerçekl...</td>\n      <td>tr</td>\n    </tr>\n    <tr>\n      <th>11925</th>\n      <td>. Aşağı ve yukarı hareket ediyor.</td>\n      <td>Yukarı ve aşağı yürümek.</td>\n      <td>tr</td>\n    </tr>\n    <tr>\n      <th>11928</th>\n      <td>[Bu ulus] özgürlük içinde tasarlandı ve tüm in...</td>\n      <td>Bu teklife ilişkin notlar birkaç ek belgeye ka...</td>\n      <td>tr</td>\n    </tr>\n    <tr>\n      <th>11937</th>\n      <td>\"Bunu yapsaydı bunun bir fark yaratacağını san...</td>\n      <td>Ustası, her iki seçimin de önemli bir etkisi o...</td>\n      <td>tr</td>\n    </tr>\n    <tr>\n      <th>11944</th>\n      <td>Toplam sistemin enerjisi, dipol ters oryantasy...</td>\n      <td>İki kutupluların yönlerini değiştirmeleri mümk...</td>\n      <td>tr</td>\n    </tr>\n  </tbody>\n</table>\n<p>861 rows × 3 columns</p>\n</div>"
     },
     "metadata": {},
     "execution_count": 486
    }
   ],
   "source": [
    "data_turkish_"
   ]
  },
  {
   "cell_type": "code",
   "execution_count": 487,
   "metadata": {},
   "outputs": [],
   "source": [
    "data_turkish_label = pd.DataFrame(data=np.zeros(861), columns=[\"label\"])"
   ]
  },
  {
   "cell_type": "code",
   "execution_count": 488,
   "metadata": {},
   "outputs": [],
   "source": [
    "data_turkish_ = data_turkish_[:].values"
   ]
  },
  {
   "cell_type": "code",
   "execution_count": 489,
   "metadata": {},
   "outputs": [],
   "source": [
    "data_turkish_ = pd.DataFrame(data=data_turkish_, columns=[\"text 1\", \"text 2\", \"code\"])"
   ]
  },
  {
   "cell_type": "code",
   "execution_count": 490,
   "metadata": {},
   "outputs": [],
   "source": [
    "data_turkish_ = pd.concat([data_turkish_, data_turkish_label], axis=1)"
   ]
  },
  {
   "cell_type": "code",
   "execution_count": 491,
   "metadata": {},
   "outputs": [
    {
     "output_type": "execute_result",
     "data": {
      "text/plain": [
       "                                                text 1  \\\n",
       "0    Kabul edilemez ifadelere bir alternatif olarak...   \n",
       "1    1 İnsanlar dikiş makinelerinde, kumaş hizalama...   \n",
       "2    19. yüzyılın sonunda, terim hakkında çok tartı...   \n",
       "3    (Dba) bir hayır kurumu, tamamen gönüllü, kar a...   \n",
       "4    Bu işlemi tamamladıktan sonra dua kitabı okuna...   \n",
       "..                                                 ...   \n",
       "856  Demokratikleşme, uluslararası coğrafyanın altı...   \n",
       "857                  . Aşağı ve yukarı hareket ediyor.   \n",
       "858  [Bu ulus] özgürlük içinde tasarlandı ve tüm in...   \n",
       "859  \"Bunu yapsaydı bunun bir fark yaratacağını san...   \n",
       "860  Toplam sistemin enerjisi, dipol ters oryantasy...   \n",
       "\n",
       "                                                text 2 code  label  \n",
       "0                          Kalp kırıklığından kaçının.   tr    0.0  \n",
       "1    Makinelerin tamamen insanların yerini alması u...   tr    0.0  \n",
       "2    Kelime, 19. yüzyılın sonlarında terk edildi ve...   tr    0.0  \n",
       "3                      Her gün çalışan 20 gönüllü var.   tr    0.0  \n",
       "4                     Dua ederken başka şeyler olacak.   tr    0.0  \n",
       "..                                                 ...  ...    ...  \n",
       "856  Demokrasinin, uluslararası coğrafyanın gerçekl...   tr    0.0  \n",
       "857                           Yukarı ve aşağı yürümek.   tr    0.0  \n",
       "858  Bu teklife ilişkin notlar birkaç ek belgeye ka...   tr    0.0  \n",
       "859  Ustası, her iki seçimin de önemli bir etkisi o...   tr    0.0  \n",
       "860  İki kutupluların yönlerini değiştirmeleri mümk...   tr    0.0  \n",
       "\n",
       "[861 rows x 4 columns]"
      ],
      "text/html": "<div>\n<style scoped>\n    .dataframe tbody tr th:only-of-type {\n        vertical-align: middle;\n    }\n\n    .dataframe tbody tr th {\n        vertical-align: top;\n    }\n\n    .dataframe thead th {\n        text-align: right;\n    }\n</style>\n<table border=\"1\" class=\"dataframe\">\n  <thead>\n    <tr style=\"text-align: right;\">\n      <th></th>\n      <th>text 1</th>\n      <th>text 2</th>\n      <th>code</th>\n      <th>label</th>\n    </tr>\n  </thead>\n  <tbody>\n    <tr>\n      <th>0</th>\n      <td>Kabul edilemez ifadelere bir alternatif olarak...</td>\n      <td>Kalp kırıklığından kaçının.</td>\n      <td>tr</td>\n      <td>0.0</td>\n    </tr>\n    <tr>\n      <th>1</th>\n      <td>1 İnsanlar dikiş makinelerinde, kumaş hizalama...</td>\n      <td>Makinelerin tamamen insanların yerini alması u...</td>\n      <td>tr</td>\n      <td>0.0</td>\n    </tr>\n    <tr>\n      <th>2</th>\n      <td>19. yüzyılın sonunda, terim hakkında çok tartı...</td>\n      <td>Kelime, 19. yüzyılın sonlarında terk edildi ve...</td>\n      <td>tr</td>\n      <td>0.0</td>\n    </tr>\n    <tr>\n      <th>3</th>\n      <td>(Dba) bir hayır kurumu, tamamen gönüllü, kar a...</td>\n      <td>Her gün çalışan 20 gönüllü var.</td>\n      <td>tr</td>\n      <td>0.0</td>\n    </tr>\n    <tr>\n      <th>4</th>\n      <td>Bu işlemi tamamladıktan sonra dua kitabı okuna...</td>\n      <td>Dua ederken başka şeyler olacak.</td>\n      <td>tr</td>\n      <td>0.0</td>\n    </tr>\n    <tr>\n      <th>...</th>\n      <td>...</td>\n      <td>...</td>\n      <td>...</td>\n      <td>...</td>\n    </tr>\n    <tr>\n      <th>856</th>\n      <td>Demokratikleşme, uluslararası coğrafyanın altı...</td>\n      <td>Demokrasinin, uluslararası coğrafyanın gerçekl...</td>\n      <td>tr</td>\n      <td>0.0</td>\n    </tr>\n    <tr>\n      <th>857</th>\n      <td>. Aşağı ve yukarı hareket ediyor.</td>\n      <td>Yukarı ve aşağı yürümek.</td>\n      <td>tr</td>\n      <td>0.0</td>\n    </tr>\n    <tr>\n      <th>858</th>\n      <td>[Bu ulus] özgürlük içinde tasarlandı ve tüm in...</td>\n      <td>Bu teklife ilişkin notlar birkaç ek belgeye ka...</td>\n      <td>tr</td>\n      <td>0.0</td>\n    </tr>\n    <tr>\n      <th>859</th>\n      <td>\"Bunu yapsaydı bunun bir fark yaratacağını san...</td>\n      <td>Ustası, her iki seçimin de önemli bir etkisi o...</td>\n      <td>tr</td>\n      <td>0.0</td>\n    </tr>\n    <tr>\n      <th>860</th>\n      <td>Toplam sistemin enerjisi, dipol ters oryantasy...</td>\n      <td>İki kutupluların yönlerini değiştirmeleri mümk...</td>\n      <td>tr</td>\n      <td>0.0</td>\n    </tr>\n  </tbody>\n</table>\n<p>861 rows × 4 columns</p>\n</div>"
     },
     "metadata": {},
     "execution_count": 491
    }
   ],
   "source": [
    "data_turkish_"
   ]
  },
  {
   "cell_type": "code",
   "execution_count": null,
   "metadata": {},
   "outputs": [],
   "source": []
  }
 ]
}